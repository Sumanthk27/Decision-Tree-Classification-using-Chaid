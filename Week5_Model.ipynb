{
  "nbformat": 4,
  "nbformat_minor": 0,
  "metadata": {
    "colab": {
      "provenance": []
    },
    "kernelspec": {
      "name": "python3",
      "display_name": "Python 3"
    },
    "language_info": {
      "name": "python"
    }
  },
  "cells": [
    {
      "cell_type": "markdown",
      "source": [
        "**Description** **of** **Data**:"
      ],
      "metadata": {
        "id": "Fg8jQQ-MOz5D"
      }
    },
    {
      "cell_type": "markdown",
      "source": [
        "Banks run into losses when customers don't pay their loans on time. Because of this, every year, banks have losses in crores, and this also impacts the country's economic growth to a large extent. In this Dataset , we look at various attributes such as funded amount, location, loan, balance, etc., to predict whether a person will be a loan defaulter.\n",
        "\n",
        "To solve this problem, we  has created a training dataset of 67,463 rows and 35 columns and a testing dataset of 28,913 rows and 34 columns. The dataset demands a few pre-requisite skills like how to handle datasets, underfitting vs overfitting, and the ability to optimize “log_loss” to generalize well on unseen data.\n"
      ],
      "metadata": {
        "id": "Kpk7vemrOEiI"
      }
    },
    {
      "cell_type": "markdown",
      "source": [
        "**Description** **of** **Attributes**:"
      ],
      "metadata": {
        "id": "ywvFNmhmOp6o"
      }
    },
    {
      "cell_type": "markdown",
      "source": [
        "•\tID: unique ID of representative\n",
        "\n",
        "•\tLoan Amount: loan amount applied\n",
        "\n",
        "•\tFunded Amount: loan amount funded\n",
        "\n",
        "•\tFunded Amount Investor: loan amount approved by the investors\n",
        "\n",
        "•\tTerm: term of loan (in months)\n",
        "\n",
        "•\tBatch Enrolled: batch numbers to representatives\n",
        "\n",
        "•\tInterest Rate: interest rate (%) on loan\n",
        "\n",
        "•\tGrade: grade by the bank\n",
        "\n",
        "•\tSub Grade: sub-grade by the bank\n",
        "\n",
        "•\tDebit to Income: ratio of representative's total monthly debt repayment divided by self-reported monthly income excluding mortgage\n",
        "\n",
        "•\tDelinquency - two years: number of 30+ days delinquency in past 2 - years\n",
        "\n",
        "•\tInquires - six months: total number of inquiries in last 6 months\n",
        "\n",
        "•\tOpen Account: number of open credit line in representative's - credit line\n",
        "\n",
        "•\tPublic Record: number of derogatory public records\n",
        "\n",
        "•\tRevolving Balance: total credit revolving balance\n",
        "\n",
        "•\tRevolving Utilities: amount of credit a representative is using - relative to revolving_balance\n",
        "\n",
        "•\tTotal Accounts: total number of credit lines available in - representatives credit line\n",
        "\n",
        "•\tInitial List Status: unique listing status of the loan - - W(Waiting), F(Forwarded)\n",
        "\n",
        "•\tTotal Received Interest: total interest received till date\n",
        "\n",
        "•\tTotal Received Late Fee: total late fee received till date\n",
        "\n",
        "•\tRecoveries: post charge off gross recovery\n",
        "\n",
        "•\tCollection Recovery Fee: post charge off collection fee\n",
        "\n",
        "•\tCollection 12 months Medical: total collections in last 12 months - excluding medical collections\n",
        "\n",
        "•\tApplication Type: indicates when the representative is an individual or joint\n",
        "\n",
        "•\tLast week Pay: indicates how long (in weeks) a representative has paid EMI after batch enrolled\n",
        "\n",
        "•\tAccounts Delinquent: number of accounts on which the representative is delinquent\n",
        "\n",
        "•\tTotal Collection Amount: total collection amount ever owed\n",
        "\n",
        "•\tTotal Current Balance: total current balance from all accounts\n",
        "\n",
        "•\tTotal Revolving Credit Limit: total revolving credit limit\n",
        "\n",
        "•\tLoan Status: 1 = Defaulter, 0 = Non-Defaulters\n"
      ],
      "metadata": {
        "id": "o92EyzL9OVHJ"
      }
    },
    {
      "cell_type": "markdown",
      "source": [
        "**Import** **required** **packages**"
      ],
      "metadata": {
        "id": "xD17XGc0O-VI"
      }
    },
    {
      "cell_type": "code",
      "execution_count": 59,
      "metadata": {
        "id": "sopyuply8a79"
      },
      "outputs": [],
      "source": [
        "import pandas as pd\n",
        "import numpy as np"
      ]
    },
    {
      "cell_type": "markdown",
      "source": [
        "**Read** **Train** **and** **Test** **Data**"
      ],
      "metadata": {
        "id": "b588EywqPCJK"
      }
    },
    {
      "cell_type": "code",
      "source": [
        "df1 = pd.read_csv('/content/train.csv')\n",
        "df2 = pd.read_csv('/content/test.csv')"
      ],
      "metadata": {
        "id": "jdLihg0D8pbM"
      },
      "execution_count": 60,
      "outputs": []
    },
    {
      "cell_type": "markdown",
      "source": [
        "**Understanding** **the** **Data**"
      ],
      "metadata": {
        "id": "uz8wa-7wPNRy"
      }
    },
    {
      "cell_type": "code",
      "source": [
        "df1.columns"
      ],
      "metadata": {
        "colab": {
          "base_uri": "https://localhost:8080/"
        },
        "id": "ojgnP-HF9UHt",
        "outputId": "20c6033a-26a3-4f73-d5cb-e5ca54e682fd"
      },
      "execution_count": 61,
      "outputs": [
        {
          "output_type": "execute_result",
          "data": {
            "text/plain": [
              "Index(['ID', 'Loan Amount', 'Funded Amount', 'Funded Amount Investor', 'Term',\n",
              "       'Batch Enrolled', 'Interest Rate', 'Grade', 'Sub Grade',\n",
              "       'Employment Duration', 'Home Ownership', 'Verification Status',\n",
              "       'Payment Plan', 'Loan Title', 'Debit to Income',\n",
              "       'Delinquency - two years', 'Inquires - six months', 'Open Account',\n",
              "       'Public Record', 'Revolving Balance', 'Revolving Utilities',\n",
              "       'Total Accounts', 'Initial List Status', 'Total Received Interest',\n",
              "       'Total Received Late Fee', 'Recoveries', 'Collection Recovery Fee',\n",
              "       'Collection 12 months Medical', 'Application Type', 'Last week Pay',\n",
              "       'Accounts Delinquent', 'Total Collection Amount',\n",
              "       'Total Current Balance', 'Total Revolving Credit Limit', 'Loan Status'],\n",
              "      dtype='object')"
            ]
          },
          "metadata": {},
          "execution_count": 61
        }
      ]
    },
    {
      "cell_type": "code",
      "source": [
        "df2.columns"
      ],
      "metadata": {
        "colab": {
          "base_uri": "https://localhost:8080/"
        },
        "id": "oz3IzTAk9hNt",
        "outputId": "3daa8df9-3589-4eea-fa1e-cbf55022cf11"
      },
      "execution_count": 62,
      "outputs": [
        {
          "output_type": "execute_result",
          "data": {
            "text/plain": [
              "Index(['ID', 'Loan Amount', 'Funded Amount', 'Funded Amount Investor', 'Term',\n",
              "       'Batch Enrolled', 'Interest Rate', 'Grade', 'Sub Grade',\n",
              "       'Employment Duration', 'Home Ownership', 'Verification Status',\n",
              "       'Payment Plan', 'Loan Title', 'Debit to Income',\n",
              "       'Delinquency - two years', 'Inquires - six months', 'Open Account',\n",
              "       'Public Record', 'Revolving Balance', 'Revolving Utilities',\n",
              "       'Total Accounts', 'Initial List Status', 'Total Received Interest',\n",
              "       'Total Received Late Fee', 'Recoveries', 'Collection Recovery Fee',\n",
              "       'Collection 12 months Medical', 'Application Type', 'Last week Pay',\n",
              "       'Accounts Delinquent', 'Total Collection Amount',\n",
              "       'Total Current Balance', 'Total Revolving Credit Limit'],\n",
              "      dtype='object')"
            ]
          },
          "metadata": {},
          "execution_count": 62
        }
      ]
    },
    {
      "cell_type": "code",
      "source": [
        "pd.set_option('display.max_columns', 500)"
      ],
      "metadata": {
        "id": "q123p_BQXHNN"
      },
      "execution_count": 63,
      "outputs": []
    },
    {
      "cell_type": "code",
      "source": [
        "df1.head()"
      ],
      "metadata": {
        "colab": {
          "base_uri": "https://localhost:8080/",
          "height": 409
        },
        "id": "1rpAsvFg9rOj",
        "outputId": "e8647b8a-b5db-47fb-e63f-44abee57f8d3"
      },
      "execution_count": 64,
      "outputs": [
        {
          "output_type": "execute_result",
          "data": {
            "text/plain": [
              "         ID  Loan Amount  Funded Amount  Funded Amount Investor  Term  \\\n",
              "0  65087372        10000          32236             12329.36286    59   \n",
              "1   1450153         3609          11940             12191.99692    59   \n",
              "2   1969101        28276           9311             21603.22455    59   \n",
              "3   6651430        11170           6954             17877.15585    59   \n",
              "4  14354669        16890          13226             13539.92667    59   \n",
              "\n",
              "  Batch Enrolled  Interest Rate Grade Sub Grade Employment Duration  \\\n",
              "0     BAT2522922      11.135007     B        C4            MORTGAGE   \n",
              "1     BAT1586599      12.237563     C        D3                RENT   \n",
              "2     BAT2136391      12.545884     F        D4            MORTGAGE   \n",
              "3     BAT2428731      16.731201     C        C3            MORTGAGE   \n",
              "4     BAT5341619      15.008300     C        D4            MORTGAGE   \n",
              "\n",
              "   Home Ownership Verification Status Payment Plan               Loan Title  \\\n",
              "0    176346.62670        Not Verified            n       Debt Consolidation   \n",
              "1     39833.92100     Source Verified            n       Debt consolidation   \n",
              "2     91506.69105     Source Verified            n       Debt Consolidation   \n",
              "3    108286.57590     Source Verified            n       Debt consolidation   \n",
              "4     44234.82545     Source Verified            n  Credit card refinancing   \n",
              "\n",
              "   Debit to Income  Delinquency - two years  Inquires - six months  \\\n",
              "0        16.284758                        1                      0   \n",
              "1        15.412409                        0                      0   \n",
              "2        28.137619                        0                      0   \n",
              "3        18.043730                        1                      0   \n",
              "4        17.209886                        1                      3   \n",
              "\n",
              "   Open Account  Public Record  Revolving Balance  Revolving Utilities  \\\n",
              "0            13              0              24246            74.932551   \n",
              "1            12              0                812            78.297186   \n",
              "2            14              0               1843             2.073040   \n",
              "3             7              0              13819            67.467951   \n",
              "4            13              1               1544            85.250761   \n",
              "\n",
              "   Total Accounts Initial List Status  Total Received Interest  \\\n",
              "0               7                   w              2929.646315   \n",
              "1              13                   f               772.769385   \n",
              "2              20                   w               863.324396   \n",
              "3              12                   w               288.173196   \n",
              "4              22                   w               129.239553   \n",
              "\n",
              "   Total Received Late Fee   Recoveries  Collection Recovery Fee  \\\n",
              "0                 0.102055     2.498291                 0.793724   \n",
              "1                 0.036181     2.377215                 0.974821   \n",
              "2                18.778660     4.316277                 1.020075   \n",
              "3                 0.044131     0.107020                 0.749971   \n",
              "4                19.306646  1294.818751                 0.368953   \n",
              "\n",
              "   Collection 12 months Medical Application Type  Last week Pay  \\\n",
              "0                             0       INDIVIDUAL             49   \n",
              "1                             0       INDIVIDUAL            109   \n",
              "2                             0       INDIVIDUAL             66   \n",
              "3                             0       INDIVIDUAL             39   \n",
              "4                             0       INDIVIDUAL             18   \n",
              "\n",
              "   Accounts Delinquent  Total Collection Amount  Total Current Balance  \\\n",
              "0                    0                       31                 311301   \n",
              "1                    0                       53                 182610   \n",
              "2                    0                       34                  89801   \n",
              "3                    0                       40                   9189   \n",
              "4                    0                      430                 126029   \n",
              "\n",
              "   Total Revolving Credit Limit  Loan Status  \n",
              "0                          6619            0  \n",
              "1                         20885            0  \n",
              "2                         26155            0  \n",
              "3                         60214            0  \n",
              "4                         22579            0  "
            ],
            "text/html": [
              "\n",
              "  <div id=\"df-3f50cc48-c160-4ef4-b8f8-e2f9e1fa16c8\">\n",
              "    <div class=\"colab-df-container\">\n",
              "      <div>\n",
              "<style scoped>\n",
              "    .dataframe tbody tr th:only-of-type {\n",
              "        vertical-align: middle;\n",
              "    }\n",
              "\n",
              "    .dataframe tbody tr th {\n",
              "        vertical-align: top;\n",
              "    }\n",
              "\n",
              "    .dataframe thead th {\n",
              "        text-align: right;\n",
              "    }\n",
              "</style>\n",
              "<table border=\"1\" class=\"dataframe\">\n",
              "  <thead>\n",
              "    <tr style=\"text-align: right;\">\n",
              "      <th></th>\n",
              "      <th>ID</th>\n",
              "      <th>Loan Amount</th>\n",
              "      <th>Funded Amount</th>\n",
              "      <th>Funded Amount Investor</th>\n",
              "      <th>Term</th>\n",
              "      <th>Batch Enrolled</th>\n",
              "      <th>Interest Rate</th>\n",
              "      <th>Grade</th>\n",
              "      <th>Sub Grade</th>\n",
              "      <th>Employment Duration</th>\n",
              "      <th>Home Ownership</th>\n",
              "      <th>Verification Status</th>\n",
              "      <th>Payment Plan</th>\n",
              "      <th>Loan Title</th>\n",
              "      <th>Debit to Income</th>\n",
              "      <th>Delinquency - two years</th>\n",
              "      <th>Inquires - six months</th>\n",
              "      <th>Open Account</th>\n",
              "      <th>Public Record</th>\n",
              "      <th>Revolving Balance</th>\n",
              "      <th>Revolving Utilities</th>\n",
              "      <th>Total Accounts</th>\n",
              "      <th>Initial List Status</th>\n",
              "      <th>Total Received Interest</th>\n",
              "      <th>Total Received Late Fee</th>\n",
              "      <th>Recoveries</th>\n",
              "      <th>Collection Recovery Fee</th>\n",
              "      <th>Collection 12 months Medical</th>\n",
              "      <th>Application Type</th>\n",
              "      <th>Last week Pay</th>\n",
              "      <th>Accounts Delinquent</th>\n",
              "      <th>Total Collection Amount</th>\n",
              "      <th>Total Current Balance</th>\n",
              "      <th>Total Revolving Credit Limit</th>\n",
              "      <th>Loan Status</th>\n",
              "    </tr>\n",
              "  </thead>\n",
              "  <tbody>\n",
              "    <tr>\n",
              "      <th>0</th>\n",
              "      <td>65087372</td>\n",
              "      <td>10000</td>\n",
              "      <td>32236</td>\n",
              "      <td>12329.36286</td>\n",
              "      <td>59</td>\n",
              "      <td>BAT2522922</td>\n",
              "      <td>11.135007</td>\n",
              "      <td>B</td>\n",
              "      <td>C4</td>\n",
              "      <td>MORTGAGE</td>\n",
              "      <td>176346.62670</td>\n",
              "      <td>Not Verified</td>\n",
              "      <td>n</td>\n",
              "      <td>Debt Consolidation</td>\n",
              "      <td>16.284758</td>\n",
              "      <td>1</td>\n",
              "      <td>0</td>\n",
              "      <td>13</td>\n",
              "      <td>0</td>\n",
              "      <td>24246</td>\n",
              "      <td>74.932551</td>\n",
              "      <td>7</td>\n",
              "      <td>w</td>\n",
              "      <td>2929.646315</td>\n",
              "      <td>0.102055</td>\n",
              "      <td>2.498291</td>\n",
              "      <td>0.793724</td>\n",
              "      <td>0</td>\n",
              "      <td>INDIVIDUAL</td>\n",
              "      <td>49</td>\n",
              "      <td>0</td>\n",
              "      <td>31</td>\n",
              "      <td>311301</td>\n",
              "      <td>6619</td>\n",
              "      <td>0</td>\n",
              "    </tr>\n",
              "    <tr>\n",
              "      <th>1</th>\n",
              "      <td>1450153</td>\n",
              "      <td>3609</td>\n",
              "      <td>11940</td>\n",
              "      <td>12191.99692</td>\n",
              "      <td>59</td>\n",
              "      <td>BAT1586599</td>\n",
              "      <td>12.237563</td>\n",
              "      <td>C</td>\n",
              "      <td>D3</td>\n",
              "      <td>RENT</td>\n",
              "      <td>39833.92100</td>\n",
              "      <td>Source Verified</td>\n",
              "      <td>n</td>\n",
              "      <td>Debt consolidation</td>\n",
              "      <td>15.412409</td>\n",
              "      <td>0</td>\n",
              "      <td>0</td>\n",
              "      <td>12</td>\n",
              "      <td>0</td>\n",
              "      <td>812</td>\n",
              "      <td>78.297186</td>\n",
              "      <td>13</td>\n",
              "      <td>f</td>\n",
              "      <td>772.769385</td>\n",
              "      <td>0.036181</td>\n",
              "      <td>2.377215</td>\n",
              "      <td>0.974821</td>\n",
              "      <td>0</td>\n",
              "      <td>INDIVIDUAL</td>\n",
              "      <td>109</td>\n",
              "      <td>0</td>\n",
              "      <td>53</td>\n",
              "      <td>182610</td>\n",
              "      <td>20885</td>\n",
              "      <td>0</td>\n",
              "    </tr>\n",
              "    <tr>\n",
              "      <th>2</th>\n",
              "      <td>1969101</td>\n",
              "      <td>28276</td>\n",
              "      <td>9311</td>\n",
              "      <td>21603.22455</td>\n",
              "      <td>59</td>\n",
              "      <td>BAT2136391</td>\n",
              "      <td>12.545884</td>\n",
              "      <td>F</td>\n",
              "      <td>D4</td>\n",
              "      <td>MORTGAGE</td>\n",
              "      <td>91506.69105</td>\n",
              "      <td>Source Verified</td>\n",
              "      <td>n</td>\n",
              "      <td>Debt Consolidation</td>\n",
              "      <td>28.137619</td>\n",
              "      <td>0</td>\n",
              "      <td>0</td>\n",
              "      <td>14</td>\n",
              "      <td>0</td>\n",
              "      <td>1843</td>\n",
              "      <td>2.073040</td>\n",
              "      <td>20</td>\n",
              "      <td>w</td>\n",
              "      <td>863.324396</td>\n",
              "      <td>18.778660</td>\n",
              "      <td>4.316277</td>\n",
              "      <td>1.020075</td>\n",
              "      <td>0</td>\n",
              "      <td>INDIVIDUAL</td>\n",
              "      <td>66</td>\n",
              "      <td>0</td>\n",
              "      <td>34</td>\n",
              "      <td>89801</td>\n",
              "      <td>26155</td>\n",
              "      <td>0</td>\n",
              "    </tr>\n",
              "    <tr>\n",
              "      <th>3</th>\n",
              "      <td>6651430</td>\n",
              "      <td>11170</td>\n",
              "      <td>6954</td>\n",
              "      <td>17877.15585</td>\n",
              "      <td>59</td>\n",
              "      <td>BAT2428731</td>\n",
              "      <td>16.731201</td>\n",
              "      <td>C</td>\n",
              "      <td>C3</td>\n",
              "      <td>MORTGAGE</td>\n",
              "      <td>108286.57590</td>\n",
              "      <td>Source Verified</td>\n",
              "      <td>n</td>\n",
              "      <td>Debt consolidation</td>\n",
              "      <td>18.043730</td>\n",
              "      <td>1</td>\n",
              "      <td>0</td>\n",
              "      <td>7</td>\n",
              "      <td>0</td>\n",
              "      <td>13819</td>\n",
              "      <td>67.467951</td>\n",
              "      <td>12</td>\n",
              "      <td>w</td>\n",
              "      <td>288.173196</td>\n",
              "      <td>0.044131</td>\n",
              "      <td>0.107020</td>\n",
              "      <td>0.749971</td>\n",
              "      <td>0</td>\n",
              "      <td>INDIVIDUAL</td>\n",
              "      <td>39</td>\n",
              "      <td>0</td>\n",
              "      <td>40</td>\n",
              "      <td>9189</td>\n",
              "      <td>60214</td>\n",
              "      <td>0</td>\n",
              "    </tr>\n",
              "    <tr>\n",
              "      <th>4</th>\n",
              "      <td>14354669</td>\n",
              "      <td>16890</td>\n",
              "      <td>13226</td>\n",
              "      <td>13539.92667</td>\n",
              "      <td>59</td>\n",
              "      <td>BAT5341619</td>\n",
              "      <td>15.008300</td>\n",
              "      <td>C</td>\n",
              "      <td>D4</td>\n",
              "      <td>MORTGAGE</td>\n",
              "      <td>44234.82545</td>\n",
              "      <td>Source Verified</td>\n",
              "      <td>n</td>\n",
              "      <td>Credit card refinancing</td>\n",
              "      <td>17.209886</td>\n",
              "      <td>1</td>\n",
              "      <td>3</td>\n",
              "      <td>13</td>\n",
              "      <td>1</td>\n",
              "      <td>1544</td>\n",
              "      <td>85.250761</td>\n",
              "      <td>22</td>\n",
              "      <td>w</td>\n",
              "      <td>129.239553</td>\n",
              "      <td>19.306646</td>\n",
              "      <td>1294.818751</td>\n",
              "      <td>0.368953</td>\n",
              "      <td>0</td>\n",
              "      <td>INDIVIDUAL</td>\n",
              "      <td>18</td>\n",
              "      <td>0</td>\n",
              "      <td>430</td>\n",
              "      <td>126029</td>\n",
              "      <td>22579</td>\n",
              "      <td>0</td>\n",
              "    </tr>\n",
              "  </tbody>\n",
              "</table>\n",
              "</div>\n",
              "      <button class=\"colab-df-convert\" onclick=\"convertToInteractive('df-3f50cc48-c160-4ef4-b8f8-e2f9e1fa16c8')\"\n",
              "              title=\"Convert this dataframe to an interactive table.\"\n",
              "              style=\"display:none;\">\n",
              "        \n",
              "  <svg xmlns=\"http://www.w3.org/2000/svg\" height=\"24px\"viewBox=\"0 0 24 24\"\n",
              "       width=\"24px\">\n",
              "    <path d=\"M0 0h24v24H0V0z\" fill=\"none\"/>\n",
              "    <path d=\"M18.56 5.44l.94 2.06.94-2.06 2.06-.94-2.06-.94-.94-2.06-.94 2.06-2.06.94zm-11 1L8.5 8.5l.94-2.06 2.06-.94-2.06-.94L8.5 2.5l-.94 2.06-2.06.94zm10 10l.94 2.06.94-2.06 2.06-.94-2.06-.94-.94-2.06-.94 2.06-2.06.94z\"/><path d=\"M17.41 7.96l-1.37-1.37c-.4-.4-.92-.59-1.43-.59-.52 0-1.04.2-1.43.59L10.3 9.45l-7.72 7.72c-.78.78-.78 2.05 0 2.83L4 21.41c.39.39.9.59 1.41.59.51 0 1.02-.2 1.41-.59l7.78-7.78 2.81-2.81c.8-.78.8-2.07 0-2.86zM5.41 20L4 18.59l7.72-7.72 1.47 1.35L5.41 20z\"/>\n",
              "  </svg>\n",
              "      </button>\n",
              "      \n",
              "  <style>\n",
              "    .colab-df-container {\n",
              "      display:flex;\n",
              "      flex-wrap:wrap;\n",
              "      gap: 12px;\n",
              "    }\n",
              "\n",
              "    .colab-df-convert {\n",
              "      background-color: #E8F0FE;\n",
              "      border: none;\n",
              "      border-radius: 50%;\n",
              "      cursor: pointer;\n",
              "      display: none;\n",
              "      fill: #1967D2;\n",
              "      height: 32px;\n",
              "      padding: 0 0 0 0;\n",
              "      width: 32px;\n",
              "    }\n",
              "\n",
              "    .colab-df-convert:hover {\n",
              "      background-color: #E2EBFA;\n",
              "      box-shadow: 0px 1px 2px rgba(60, 64, 67, 0.3), 0px 1px 3px 1px rgba(60, 64, 67, 0.15);\n",
              "      fill: #174EA6;\n",
              "    }\n",
              "\n",
              "    [theme=dark] .colab-df-convert {\n",
              "      background-color: #3B4455;\n",
              "      fill: #D2E3FC;\n",
              "    }\n",
              "\n",
              "    [theme=dark] .colab-df-convert:hover {\n",
              "      background-color: #434B5C;\n",
              "      box-shadow: 0px 1px 3px 1px rgba(0, 0, 0, 0.15);\n",
              "      filter: drop-shadow(0px 1px 2px rgba(0, 0, 0, 0.3));\n",
              "      fill: #FFFFFF;\n",
              "    }\n",
              "  </style>\n",
              "\n",
              "      <script>\n",
              "        const buttonEl =\n",
              "          document.querySelector('#df-3f50cc48-c160-4ef4-b8f8-e2f9e1fa16c8 button.colab-df-convert');\n",
              "        buttonEl.style.display =\n",
              "          google.colab.kernel.accessAllowed ? 'block' : 'none';\n",
              "\n",
              "        async function convertToInteractive(key) {\n",
              "          const element = document.querySelector('#df-3f50cc48-c160-4ef4-b8f8-e2f9e1fa16c8');\n",
              "          const dataTable =\n",
              "            await google.colab.kernel.invokeFunction('convertToInteractive',\n",
              "                                                     [key], {});\n",
              "          if (!dataTable) return;\n",
              "\n",
              "          const docLinkHtml = 'Like what you see? Visit the ' +\n",
              "            '<a target=\"_blank\" href=https://colab.research.google.com/notebooks/data_table.ipynb>data table notebook</a>'\n",
              "            + ' to learn more about interactive tables.';\n",
              "          element.innerHTML = '';\n",
              "          dataTable['output_type'] = 'display_data';\n",
              "          await google.colab.output.renderOutput(dataTable, element);\n",
              "          const docLink = document.createElement('div');\n",
              "          docLink.innerHTML = docLinkHtml;\n",
              "          element.appendChild(docLink);\n",
              "        }\n",
              "      </script>\n",
              "    </div>\n",
              "  </div>\n",
              "  "
            ]
          },
          "metadata": {},
          "execution_count": 64
        }
      ]
    },
    {
      "cell_type": "code",
      "source": [
        "df2.head()"
      ],
      "metadata": {
        "id": "2IPLeuG7-FeY",
        "colab": {
          "base_uri": "https://localhost:8080/",
          "height": 409
        },
        "outputId": "2236ae71-77cb-4117-9cbd-9d74d996550e"
      },
      "execution_count": 65,
      "outputs": [
        {
          "output_type": "execute_result",
          "data": {
            "text/plain": [
              "         ID  Loan Amount  Funded Amount  Funded Amount Investor  Term  \\\n",
              "0  56492997        17120          10365            16025.082690    59   \n",
              "1  22540813         7133          11650            12615.795600    59   \n",
              "2   9862181        25291          25825            11621.280830    59   \n",
              "3  10097822        30781           9664            15375.823510    59   \n",
              "4  47771809         8878           9419             7176.647582    58   \n",
              "\n",
              "  Batch Enrolled  Interest Rate Grade Sub Grade Employment Duration  \\\n",
              "0     BAT2575549      12.163926     A        D1                RENT   \n",
              "1     BAT2833642       6.564296     B        E3            MORTGAGE   \n",
              "2     BAT1761981      14.729900     A        C3            MORTGAGE   \n",
              "3     BAT5341619      10.523767     A        A2                RENT   \n",
              "4     BAT4694572       9.997013     C        B3                 OWN   \n",
              "\n",
              "   Home Ownership Verification Status Payment Plan               Loan Title  \\\n",
              "0     76468.82190     Source Verified            n         Home improvement   \n",
              "1     38079.01344     Source Verified            n  Credit card refinancing   \n",
              "2     51275.93268     Source Verified            n       Debt consolidation   \n",
              "3     68867.98965            Verified            n       Debt Consolidation   \n",
              "4     91556.85423            Verified            n       Debt consolidation   \n",
              "\n",
              "   Debit to Income  Delinquency - two years  Inquires - six months  \\\n",
              "0        16.749219                        1                      0   \n",
              "1        18.157975                        0                      0   \n",
              "2        15.190011                        0                      0   \n",
              "3        21.292550                        0                      0   \n",
              "4         4.812117                        0                      0   \n",
              "\n",
              "   Open Account  Public Record  Revolving Balance  Revolving Utilities  \\\n",
              "0            12              1               3576            67.278287   \n",
              "1            11              0               1932            71.313157   \n",
              "2            22              0                598            50.883065   \n",
              "3            11              0               5222            82.449083   \n",
              "4            11              0                553            49.075855   \n",
              "\n",
              "   Total Accounts Initial List Status  Total Received Interest  \\\n",
              "0               5                   f              4469.449851   \n",
              "1              21                   w               993.907530   \n",
              "2              23                   f               729.113379   \n",
              "3              28                   w               715.867091   \n",
              "4               9                   w               248.572854   \n",
              "\n",
              "   Total Received Late Fee  Recoveries  Collection Recovery Fee  \\\n",
              "0                 0.088031    8.425776                 0.731797   \n",
              "1                 0.041237    6.157008                 0.992918   \n",
              "2                 0.021745    5.705077                 0.281580   \n",
              "3                 0.092398    2.469688                 0.959162   \n",
              "4                 0.010354    2.127835                 0.402315   \n",
              "\n",
              "   Collection 12 months Medical Application Type  Last week Pay  \\\n",
              "0                             0       INDIVIDUAL            135   \n",
              "1                             0       INDIVIDUAL             56   \n",
              "2                             0       INDIVIDUAL              3   \n",
              "3                             0       INDIVIDUAL             21   \n",
              "4                             0       INDIVIDUAL            104   \n",
              "\n",
              "   Accounts Delinquent  Total Collection Amount  Total Current Balance  \\\n",
              "0                    0                       24                 475442   \n",
              "1                    0                        1                  72412   \n",
              "2                    0                       26                 284825   \n",
              "3                    0                       32                  40842   \n",
              "4                    0                       33                  90825   \n",
              "\n",
              "   Total Revolving Credit Limit  \n",
              "0                          4364  \n",
              "1                          2573  \n",
              "2                         19676  \n",
              "3                          7226  \n",
              "4                         26145  "
            ],
            "text/html": [
              "\n",
              "  <div id=\"df-384219a4-4148-4099-b751-21f7a379dcd6\">\n",
              "    <div class=\"colab-df-container\">\n",
              "      <div>\n",
              "<style scoped>\n",
              "    .dataframe tbody tr th:only-of-type {\n",
              "        vertical-align: middle;\n",
              "    }\n",
              "\n",
              "    .dataframe tbody tr th {\n",
              "        vertical-align: top;\n",
              "    }\n",
              "\n",
              "    .dataframe thead th {\n",
              "        text-align: right;\n",
              "    }\n",
              "</style>\n",
              "<table border=\"1\" class=\"dataframe\">\n",
              "  <thead>\n",
              "    <tr style=\"text-align: right;\">\n",
              "      <th></th>\n",
              "      <th>ID</th>\n",
              "      <th>Loan Amount</th>\n",
              "      <th>Funded Amount</th>\n",
              "      <th>Funded Amount Investor</th>\n",
              "      <th>Term</th>\n",
              "      <th>Batch Enrolled</th>\n",
              "      <th>Interest Rate</th>\n",
              "      <th>Grade</th>\n",
              "      <th>Sub Grade</th>\n",
              "      <th>Employment Duration</th>\n",
              "      <th>Home Ownership</th>\n",
              "      <th>Verification Status</th>\n",
              "      <th>Payment Plan</th>\n",
              "      <th>Loan Title</th>\n",
              "      <th>Debit to Income</th>\n",
              "      <th>Delinquency - two years</th>\n",
              "      <th>Inquires - six months</th>\n",
              "      <th>Open Account</th>\n",
              "      <th>Public Record</th>\n",
              "      <th>Revolving Balance</th>\n",
              "      <th>Revolving Utilities</th>\n",
              "      <th>Total Accounts</th>\n",
              "      <th>Initial List Status</th>\n",
              "      <th>Total Received Interest</th>\n",
              "      <th>Total Received Late Fee</th>\n",
              "      <th>Recoveries</th>\n",
              "      <th>Collection Recovery Fee</th>\n",
              "      <th>Collection 12 months Medical</th>\n",
              "      <th>Application Type</th>\n",
              "      <th>Last week Pay</th>\n",
              "      <th>Accounts Delinquent</th>\n",
              "      <th>Total Collection Amount</th>\n",
              "      <th>Total Current Balance</th>\n",
              "      <th>Total Revolving Credit Limit</th>\n",
              "    </tr>\n",
              "  </thead>\n",
              "  <tbody>\n",
              "    <tr>\n",
              "      <th>0</th>\n",
              "      <td>56492997</td>\n",
              "      <td>17120</td>\n",
              "      <td>10365</td>\n",
              "      <td>16025.082690</td>\n",
              "      <td>59</td>\n",
              "      <td>BAT2575549</td>\n",
              "      <td>12.163926</td>\n",
              "      <td>A</td>\n",
              "      <td>D1</td>\n",
              "      <td>RENT</td>\n",
              "      <td>76468.82190</td>\n",
              "      <td>Source Verified</td>\n",
              "      <td>n</td>\n",
              "      <td>Home improvement</td>\n",
              "      <td>16.749219</td>\n",
              "      <td>1</td>\n",
              "      <td>0</td>\n",
              "      <td>12</td>\n",
              "      <td>1</td>\n",
              "      <td>3576</td>\n",
              "      <td>67.278287</td>\n",
              "      <td>5</td>\n",
              "      <td>f</td>\n",
              "      <td>4469.449851</td>\n",
              "      <td>0.088031</td>\n",
              "      <td>8.425776</td>\n",
              "      <td>0.731797</td>\n",
              "      <td>0</td>\n",
              "      <td>INDIVIDUAL</td>\n",
              "      <td>135</td>\n",
              "      <td>0</td>\n",
              "      <td>24</td>\n",
              "      <td>475442</td>\n",
              "      <td>4364</td>\n",
              "    </tr>\n",
              "    <tr>\n",
              "      <th>1</th>\n",
              "      <td>22540813</td>\n",
              "      <td>7133</td>\n",
              "      <td>11650</td>\n",
              "      <td>12615.795600</td>\n",
              "      <td>59</td>\n",
              "      <td>BAT2833642</td>\n",
              "      <td>6.564296</td>\n",
              "      <td>B</td>\n",
              "      <td>E3</td>\n",
              "      <td>MORTGAGE</td>\n",
              "      <td>38079.01344</td>\n",
              "      <td>Source Verified</td>\n",
              "      <td>n</td>\n",
              "      <td>Credit card refinancing</td>\n",
              "      <td>18.157975</td>\n",
              "      <td>0</td>\n",
              "      <td>0</td>\n",
              "      <td>11</td>\n",
              "      <td>0</td>\n",
              "      <td>1932</td>\n",
              "      <td>71.313157</td>\n",
              "      <td>21</td>\n",
              "      <td>w</td>\n",
              "      <td>993.907530</td>\n",
              "      <td>0.041237</td>\n",
              "      <td>6.157008</td>\n",
              "      <td>0.992918</td>\n",
              "      <td>0</td>\n",
              "      <td>INDIVIDUAL</td>\n",
              "      <td>56</td>\n",
              "      <td>0</td>\n",
              "      <td>1</td>\n",
              "      <td>72412</td>\n",
              "      <td>2573</td>\n",
              "    </tr>\n",
              "    <tr>\n",
              "      <th>2</th>\n",
              "      <td>9862181</td>\n",
              "      <td>25291</td>\n",
              "      <td>25825</td>\n",
              "      <td>11621.280830</td>\n",
              "      <td>59</td>\n",
              "      <td>BAT1761981</td>\n",
              "      <td>14.729900</td>\n",
              "      <td>A</td>\n",
              "      <td>C3</td>\n",
              "      <td>MORTGAGE</td>\n",
              "      <td>51275.93268</td>\n",
              "      <td>Source Verified</td>\n",
              "      <td>n</td>\n",
              "      <td>Debt consolidation</td>\n",
              "      <td>15.190011</td>\n",
              "      <td>0</td>\n",
              "      <td>0</td>\n",
              "      <td>22</td>\n",
              "      <td>0</td>\n",
              "      <td>598</td>\n",
              "      <td>50.883065</td>\n",
              "      <td>23</td>\n",
              "      <td>f</td>\n",
              "      <td>729.113379</td>\n",
              "      <td>0.021745</td>\n",
              "      <td>5.705077</td>\n",
              "      <td>0.281580</td>\n",
              "      <td>0</td>\n",
              "      <td>INDIVIDUAL</td>\n",
              "      <td>3</td>\n",
              "      <td>0</td>\n",
              "      <td>26</td>\n",
              "      <td>284825</td>\n",
              "      <td>19676</td>\n",
              "    </tr>\n",
              "    <tr>\n",
              "      <th>3</th>\n",
              "      <td>10097822</td>\n",
              "      <td>30781</td>\n",
              "      <td>9664</td>\n",
              "      <td>15375.823510</td>\n",
              "      <td>59</td>\n",
              "      <td>BAT5341619</td>\n",
              "      <td>10.523767</td>\n",
              "      <td>A</td>\n",
              "      <td>A2</td>\n",
              "      <td>RENT</td>\n",
              "      <td>68867.98965</td>\n",
              "      <td>Verified</td>\n",
              "      <td>n</td>\n",
              "      <td>Debt Consolidation</td>\n",
              "      <td>21.292550</td>\n",
              "      <td>0</td>\n",
              "      <td>0</td>\n",
              "      <td>11</td>\n",
              "      <td>0</td>\n",
              "      <td>5222</td>\n",
              "      <td>82.449083</td>\n",
              "      <td>28</td>\n",
              "      <td>w</td>\n",
              "      <td>715.867091</td>\n",
              "      <td>0.092398</td>\n",
              "      <td>2.469688</td>\n",
              "      <td>0.959162</td>\n",
              "      <td>0</td>\n",
              "      <td>INDIVIDUAL</td>\n",
              "      <td>21</td>\n",
              "      <td>0</td>\n",
              "      <td>32</td>\n",
              "      <td>40842</td>\n",
              "      <td>7226</td>\n",
              "    </tr>\n",
              "    <tr>\n",
              "      <th>4</th>\n",
              "      <td>47771809</td>\n",
              "      <td>8878</td>\n",
              "      <td>9419</td>\n",
              "      <td>7176.647582</td>\n",
              "      <td>58</td>\n",
              "      <td>BAT4694572</td>\n",
              "      <td>9.997013</td>\n",
              "      <td>C</td>\n",
              "      <td>B3</td>\n",
              "      <td>OWN</td>\n",
              "      <td>91556.85423</td>\n",
              "      <td>Verified</td>\n",
              "      <td>n</td>\n",
              "      <td>Debt consolidation</td>\n",
              "      <td>4.812117</td>\n",
              "      <td>0</td>\n",
              "      <td>0</td>\n",
              "      <td>11</td>\n",
              "      <td>0</td>\n",
              "      <td>553</td>\n",
              "      <td>49.075855</td>\n",
              "      <td>9</td>\n",
              "      <td>w</td>\n",
              "      <td>248.572854</td>\n",
              "      <td>0.010354</td>\n",
              "      <td>2.127835</td>\n",
              "      <td>0.402315</td>\n",
              "      <td>0</td>\n",
              "      <td>INDIVIDUAL</td>\n",
              "      <td>104</td>\n",
              "      <td>0</td>\n",
              "      <td>33</td>\n",
              "      <td>90825</td>\n",
              "      <td>26145</td>\n",
              "    </tr>\n",
              "  </tbody>\n",
              "</table>\n",
              "</div>\n",
              "      <button class=\"colab-df-convert\" onclick=\"convertToInteractive('df-384219a4-4148-4099-b751-21f7a379dcd6')\"\n",
              "              title=\"Convert this dataframe to an interactive table.\"\n",
              "              style=\"display:none;\">\n",
              "        \n",
              "  <svg xmlns=\"http://www.w3.org/2000/svg\" height=\"24px\"viewBox=\"0 0 24 24\"\n",
              "       width=\"24px\">\n",
              "    <path d=\"M0 0h24v24H0V0z\" fill=\"none\"/>\n",
              "    <path d=\"M18.56 5.44l.94 2.06.94-2.06 2.06-.94-2.06-.94-.94-2.06-.94 2.06-2.06.94zm-11 1L8.5 8.5l.94-2.06 2.06-.94-2.06-.94L8.5 2.5l-.94 2.06-2.06.94zm10 10l.94 2.06.94-2.06 2.06-.94-2.06-.94-.94-2.06-.94 2.06-2.06.94z\"/><path d=\"M17.41 7.96l-1.37-1.37c-.4-.4-.92-.59-1.43-.59-.52 0-1.04.2-1.43.59L10.3 9.45l-7.72 7.72c-.78.78-.78 2.05 0 2.83L4 21.41c.39.39.9.59 1.41.59.51 0 1.02-.2 1.41-.59l7.78-7.78 2.81-2.81c.8-.78.8-2.07 0-2.86zM5.41 20L4 18.59l7.72-7.72 1.47 1.35L5.41 20z\"/>\n",
              "  </svg>\n",
              "      </button>\n",
              "      \n",
              "  <style>\n",
              "    .colab-df-container {\n",
              "      display:flex;\n",
              "      flex-wrap:wrap;\n",
              "      gap: 12px;\n",
              "    }\n",
              "\n",
              "    .colab-df-convert {\n",
              "      background-color: #E8F0FE;\n",
              "      border: none;\n",
              "      border-radius: 50%;\n",
              "      cursor: pointer;\n",
              "      display: none;\n",
              "      fill: #1967D2;\n",
              "      height: 32px;\n",
              "      padding: 0 0 0 0;\n",
              "      width: 32px;\n",
              "    }\n",
              "\n",
              "    .colab-df-convert:hover {\n",
              "      background-color: #E2EBFA;\n",
              "      box-shadow: 0px 1px 2px rgba(60, 64, 67, 0.3), 0px 1px 3px 1px rgba(60, 64, 67, 0.15);\n",
              "      fill: #174EA6;\n",
              "    }\n",
              "\n",
              "    [theme=dark] .colab-df-convert {\n",
              "      background-color: #3B4455;\n",
              "      fill: #D2E3FC;\n",
              "    }\n",
              "\n",
              "    [theme=dark] .colab-df-convert:hover {\n",
              "      background-color: #434B5C;\n",
              "      box-shadow: 0px 1px 3px 1px rgba(0, 0, 0, 0.15);\n",
              "      filter: drop-shadow(0px 1px 2px rgba(0, 0, 0, 0.3));\n",
              "      fill: #FFFFFF;\n",
              "    }\n",
              "  </style>\n",
              "\n",
              "      <script>\n",
              "        const buttonEl =\n",
              "          document.querySelector('#df-384219a4-4148-4099-b751-21f7a379dcd6 button.colab-df-convert');\n",
              "        buttonEl.style.display =\n",
              "          google.colab.kernel.accessAllowed ? 'block' : 'none';\n",
              "\n",
              "        async function convertToInteractive(key) {\n",
              "          const element = document.querySelector('#df-384219a4-4148-4099-b751-21f7a379dcd6');\n",
              "          const dataTable =\n",
              "            await google.colab.kernel.invokeFunction('convertToInteractive',\n",
              "                                                     [key], {});\n",
              "          if (!dataTable) return;\n",
              "\n",
              "          const docLinkHtml = 'Like what you see? Visit the ' +\n",
              "            '<a target=\"_blank\" href=https://colab.research.google.com/notebooks/data_table.ipynb>data table notebook</a>'\n",
              "            + ' to learn more about interactive tables.';\n",
              "          element.innerHTML = '';\n",
              "          dataTable['output_type'] = 'display_data';\n",
              "          await google.colab.output.renderOutput(dataTable, element);\n",
              "          const docLink = document.createElement('div');\n",
              "          docLink.innerHTML = docLinkHtml;\n",
              "          element.appendChild(docLink);\n",
              "        }\n",
              "      </script>\n",
              "    </div>\n",
              "  </div>\n",
              "  "
            ]
          },
          "metadata": {},
          "execution_count": 65
        }
      ]
    },
    {
      "cell_type": "code",
      "source": [
        "df1.tail()"
      ],
      "metadata": {
        "colab": {
          "base_uri": "https://localhost:8080/",
          "height": 391
        },
        "id": "tpxppbmcw96A",
        "outputId": "1a71ec3d-a7aa-46fb-df38-badd68d81382"
      },
      "execution_count": 66,
      "outputs": [
        {
          "output_type": "execute_result",
          "data": {
            "text/plain": [
              "             ID  Loan Amount  Funded Amount  Funded Amount Investor  Term  \\\n",
              "67458  16164945        13601           6848             13175.28583    59   \n",
              "67459  35182714         8323          11046             15637.46301    59   \n",
              "67460  16435904        15897          32921             12329.45775    59   \n",
              "67461   5300325        16567           4975             21353.68465    59   \n",
              "67462  65443173        15353          29875             14207.44860    59   \n",
              "\n",
              "      Batch Enrolled  Interest Rate Grade Sub Grade Employment Duration  \\\n",
              "67458     BAT3193689       9.408858     C        A4            MORTGAGE   \n",
              "67459     BAT1780517       9.972104     C        B3                RENT   \n",
              "67460     BAT1761981      19.650943     A        F3            MORTGAGE   \n",
              "67461     BAT2333412      13.169095     D        E3                 OWN   \n",
              "67462     BAT1930365      16.034631     B        D1            MORTGAGE   \n",
              "\n",
              "       Home Ownership Verification Status Payment Plan  \\\n",
              "67458     83961.15003            Verified            n   \n",
              "67459     65491.12817     Source Verified            n   \n",
              "67460     34813.96985            Verified            n   \n",
              "67461     96938.83564        Not Verified            n   \n",
              "67462    105123.15580            Verified            n   \n",
              "\n",
              "                    Loan Title  Debit to Income  Delinquency - two years  \\\n",
              "67458  Credit card refinancing        28.105127                        1   \n",
              "67459  Credit card refinancing        17.694279                        0   \n",
              "67460             Lending loan        10.295774                        0   \n",
              "67461       Debt consolidation         7.614624                        0   \n",
              "67462       Debt consolidation        16.052112                        0   \n",
              "\n",
              "       Inquires - six months  Open Account  Public Record  Revolving Balance  \\\n",
              "67458                      0            13              0               4112   \n",
              "67459                      0            12              0               9737   \n",
              "67460                      0             7              1               2195   \n",
              "67461                      0            14              0               1172   \n",
              "67462                      0            30              0               8762   \n",
              "\n",
              "       Revolving Utilities  Total Accounts Initial List Status  \\\n",
              "67458            97.779389              19                   w   \n",
              "67459            15.690703              14                   w   \n",
              "67460             1.500090               9                   w   \n",
              "67461            68.481882              15                   f   \n",
              "67462            81.692328              16                   f   \n",
              "\n",
              "       Total Received Interest  Total Received Late Fee  Recoveries  \\\n",
              "67458              1978.945960                 0.023478  564.614852   \n",
              "67459              3100.803125                 0.027095    2.015494   \n",
              "67460              2691.995532                 0.028212    5.673092   \n",
              "67461              3659.334202                 0.074508    1.157454   \n",
              "67462              1324.255922                 0.000671    1.856480   \n",
              "\n",
              "       Collection Recovery Fee  Collection 12 months Medical Application Type  \\\n",
              "67458                 0.865230                             0       INDIVIDUAL   \n",
              "67459                 1.403368                             0       INDIVIDUAL   \n",
              "67460                 1.607093                             0       INDIVIDUAL   \n",
              "67461                 0.207608                             0       INDIVIDUAL   \n",
              "67462                 0.366386                             0       INDIVIDUAL   \n",
              "\n",
              "       Last week Pay  Accounts Delinquent  Total Collection Amount  \\\n",
              "67458             69                    0                       48   \n",
              "67459             14                    0                       37   \n",
              "67460            137                    0                       17   \n",
              "67461             73                    0                       61   \n",
              "67462             54                    0                       47   \n",
              "\n",
              "       Total Current Balance  Total Revolving Credit Limit  Loan Status  \n",
              "67458                 181775                         34301            1  \n",
              "67459                  22692                          8714            0  \n",
              "67460                 176857                         42330            0  \n",
              "67461                 361339                         39075            0  \n",
              "67462                 196960                         66060            0  "
            ],
            "text/html": [
              "\n",
              "  <div id=\"df-e759dbaf-fc03-4fae-88e7-df5081908b01\">\n",
              "    <div class=\"colab-df-container\">\n",
              "      <div>\n",
              "<style scoped>\n",
              "    .dataframe tbody tr th:only-of-type {\n",
              "        vertical-align: middle;\n",
              "    }\n",
              "\n",
              "    .dataframe tbody tr th {\n",
              "        vertical-align: top;\n",
              "    }\n",
              "\n",
              "    .dataframe thead th {\n",
              "        text-align: right;\n",
              "    }\n",
              "</style>\n",
              "<table border=\"1\" class=\"dataframe\">\n",
              "  <thead>\n",
              "    <tr style=\"text-align: right;\">\n",
              "      <th></th>\n",
              "      <th>ID</th>\n",
              "      <th>Loan Amount</th>\n",
              "      <th>Funded Amount</th>\n",
              "      <th>Funded Amount Investor</th>\n",
              "      <th>Term</th>\n",
              "      <th>Batch Enrolled</th>\n",
              "      <th>Interest Rate</th>\n",
              "      <th>Grade</th>\n",
              "      <th>Sub Grade</th>\n",
              "      <th>Employment Duration</th>\n",
              "      <th>Home Ownership</th>\n",
              "      <th>Verification Status</th>\n",
              "      <th>Payment Plan</th>\n",
              "      <th>Loan Title</th>\n",
              "      <th>Debit to Income</th>\n",
              "      <th>Delinquency - two years</th>\n",
              "      <th>Inquires - six months</th>\n",
              "      <th>Open Account</th>\n",
              "      <th>Public Record</th>\n",
              "      <th>Revolving Balance</th>\n",
              "      <th>Revolving Utilities</th>\n",
              "      <th>Total Accounts</th>\n",
              "      <th>Initial List Status</th>\n",
              "      <th>Total Received Interest</th>\n",
              "      <th>Total Received Late Fee</th>\n",
              "      <th>Recoveries</th>\n",
              "      <th>Collection Recovery Fee</th>\n",
              "      <th>Collection 12 months Medical</th>\n",
              "      <th>Application Type</th>\n",
              "      <th>Last week Pay</th>\n",
              "      <th>Accounts Delinquent</th>\n",
              "      <th>Total Collection Amount</th>\n",
              "      <th>Total Current Balance</th>\n",
              "      <th>Total Revolving Credit Limit</th>\n",
              "      <th>Loan Status</th>\n",
              "    </tr>\n",
              "  </thead>\n",
              "  <tbody>\n",
              "    <tr>\n",
              "      <th>67458</th>\n",
              "      <td>16164945</td>\n",
              "      <td>13601</td>\n",
              "      <td>6848</td>\n",
              "      <td>13175.28583</td>\n",
              "      <td>59</td>\n",
              "      <td>BAT3193689</td>\n",
              "      <td>9.408858</td>\n",
              "      <td>C</td>\n",
              "      <td>A4</td>\n",
              "      <td>MORTGAGE</td>\n",
              "      <td>83961.15003</td>\n",
              "      <td>Verified</td>\n",
              "      <td>n</td>\n",
              "      <td>Credit card refinancing</td>\n",
              "      <td>28.105127</td>\n",
              "      <td>1</td>\n",
              "      <td>0</td>\n",
              "      <td>13</td>\n",
              "      <td>0</td>\n",
              "      <td>4112</td>\n",
              "      <td>97.779389</td>\n",
              "      <td>19</td>\n",
              "      <td>w</td>\n",
              "      <td>1978.945960</td>\n",
              "      <td>0.023478</td>\n",
              "      <td>564.614852</td>\n",
              "      <td>0.865230</td>\n",
              "      <td>0</td>\n",
              "      <td>INDIVIDUAL</td>\n",
              "      <td>69</td>\n",
              "      <td>0</td>\n",
              "      <td>48</td>\n",
              "      <td>181775</td>\n",
              "      <td>34301</td>\n",
              "      <td>1</td>\n",
              "    </tr>\n",
              "    <tr>\n",
              "      <th>67459</th>\n",
              "      <td>35182714</td>\n",
              "      <td>8323</td>\n",
              "      <td>11046</td>\n",
              "      <td>15637.46301</td>\n",
              "      <td>59</td>\n",
              "      <td>BAT1780517</td>\n",
              "      <td>9.972104</td>\n",
              "      <td>C</td>\n",
              "      <td>B3</td>\n",
              "      <td>RENT</td>\n",
              "      <td>65491.12817</td>\n",
              "      <td>Source Verified</td>\n",
              "      <td>n</td>\n",
              "      <td>Credit card refinancing</td>\n",
              "      <td>17.694279</td>\n",
              "      <td>0</td>\n",
              "      <td>0</td>\n",
              "      <td>12</td>\n",
              "      <td>0</td>\n",
              "      <td>9737</td>\n",
              "      <td>15.690703</td>\n",
              "      <td>14</td>\n",
              "      <td>w</td>\n",
              "      <td>3100.803125</td>\n",
              "      <td>0.027095</td>\n",
              "      <td>2.015494</td>\n",
              "      <td>1.403368</td>\n",
              "      <td>0</td>\n",
              "      <td>INDIVIDUAL</td>\n",
              "      <td>14</td>\n",
              "      <td>0</td>\n",
              "      <td>37</td>\n",
              "      <td>22692</td>\n",
              "      <td>8714</td>\n",
              "      <td>0</td>\n",
              "    </tr>\n",
              "    <tr>\n",
              "      <th>67460</th>\n",
              "      <td>16435904</td>\n",
              "      <td>15897</td>\n",
              "      <td>32921</td>\n",
              "      <td>12329.45775</td>\n",
              "      <td>59</td>\n",
              "      <td>BAT1761981</td>\n",
              "      <td>19.650943</td>\n",
              "      <td>A</td>\n",
              "      <td>F3</td>\n",
              "      <td>MORTGAGE</td>\n",
              "      <td>34813.96985</td>\n",
              "      <td>Verified</td>\n",
              "      <td>n</td>\n",
              "      <td>Lending loan</td>\n",
              "      <td>10.295774</td>\n",
              "      <td>0</td>\n",
              "      <td>0</td>\n",
              "      <td>7</td>\n",
              "      <td>1</td>\n",
              "      <td>2195</td>\n",
              "      <td>1.500090</td>\n",
              "      <td>9</td>\n",
              "      <td>w</td>\n",
              "      <td>2691.995532</td>\n",
              "      <td>0.028212</td>\n",
              "      <td>5.673092</td>\n",
              "      <td>1.607093</td>\n",
              "      <td>0</td>\n",
              "      <td>INDIVIDUAL</td>\n",
              "      <td>137</td>\n",
              "      <td>0</td>\n",
              "      <td>17</td>\n",
              "      <td>176857</td>\n",
              "      <td>42330</td>\n",
              "      <td>0</td>\n",
              "    </tr>\n",
              "    <tr>\n",
              "      <th>67461</th>\n",
              "      <td>5300325</td>\n",
              "      <td>16567</td>\n",
              "      <td>4975</td>\n",
              "      <td>21353.68465</td>\n",
              "      <td>59</td>\n",
              "      <td>BAT2333412</td>\n",
              "      <td>13.169095</td>\n",
              "      <td>D</td>\n",
              "      <td>E3</td>\n",
              "      <td>OWN</td>\n",
              "      <td>96938.83564</td>\n",
              "      <td>Not Verified</td>\n",
              "      <td>n</td>\n",
              "      <td>Debt consolidation</td>\n",
              "      <td>7.614624</td>\n",
              "      <td>0</td>\n",
              "      <td>0</td>\n",
              "      <td>14</td>\n",
              "      <td>0</td>\n",
              "      <td>1172</td>\n",
              "      <td>68.481882</td>\n",
              "      <td>15</td>\n",
              "      <td>f</td>\n",
              "      <td>3659.334202</td>\n",
              "      <td>0.074508</td>\n",
              "      <td>1.157454</td>\n",
              "      <td>0.207608</td>\n",
              "      <td>0</td>\n",
              "      <td>INDIVIDUAL</td>\n",
              "      <td>73</td>\n",
              "      <td>0</td>\n",
              "      <td>61</td>\n",
              "      <td>361339</td>\n",
              "      <td>39075</td>\n",
              "      <td>0</td>\n",
              "    </tr>\n",
              "    <tr>\n",
              "      <th>67462</th>\n",
              "      <td>65443173</td>\n",
              "      <td>15353</td>\n",
              "      <td>29875</td>\n",
              "      <td>14207.44860</td>\n",
              "      <td>59</td>\n",
              "      <td>BAT1930365</td>\n",
              "      <td>16.034631</td>\n",
              "      <td>B</td>\n",
              "      <td>D1</td>\n",
              "      <td>MORTGAGE</td>\n",
              "      <td>105123.15580</td>\n",
              "      <td>Verified</td>\n",
              "      <td>n</td>\n",
              "      <td>Debt consolidation</td>\n",
              "      <td>16.052112</td>\n",
              "      <td>0</td>\n",
              "      <td>0</td>\n",
              "      <td>30</td>\n",
              "      <td>0</td>\n",
              "      <td>8762</td>\n",
              "      <td>81.692328</td>\n",
              "      <td>16</td>\n",
              "      <td>f</td>\n",
              "      <td>1324.255922</td>\n",
              "      <td>0.000671</td>\n",
              "      <td>1.856480</td>\n",
              "      <td>0.366386</td>\n",
              "      <td>0</td>\n",
              "      <td>INDIVIDUAL</td>\n",
              "      <td>54</td>\n",
              "      <td>0</td>\n",
              "      <td>47</td>\n",
              "      <td>196960</td>\n",
              "      <td>66060</td>\n",
              "      <td>0</td>\n",
              "    </tr>\n",
              "  </tbody>\n",
              "</table>\n",
              "</div>\n",
              "      <button class=\"colab-df-convert\" onclick=\"convertToInteractive('df-e759dbaf-fc03-4fae-88e7-df5081908b01')\"\n",
              "              title=\"Convert this dataframe to an interactive table.\"\n",
              "              style=\"display:none;\">\n",
              "        \n",
              "  <svg xmlns=\"http://www.w3.org/2000/svg\" height=\"24px\"viewBox=\"0 0 24 24\"\n",
              "       width=\"24px\">\n",
              "    <path d=\"M0 0h24v24H0V0z\" fill=\"none\"/>\n",
              "    <path d=\"M18.56 5.44l.94 2.06.94-2.06 2.06-.94-2.06-.94-.94-2.06-.94 2.06-2.06.94zm-11 1L8.5 8.5l.94-2.06 2.06-.94-2.06-.94L8.5 2.5l-.94 2.06-2.06.94zm10 10l.94 2.06.94-2.06 2.06-.94-2.06-.94-.94-2.06-.94 2.06-2.06.94z\"/><path d=\"M17.41 7.96l-1.37-1.37c-.4-.4-.92-.59-1.43-.59-.52 0-1.04.2-1.43.59L10.3 9.45l-7.72 7.72c-.78.78-.78 2.05 0 2.83L4 21.41c.39.39.9.59 1.41.59.51 0 1.02-.2 1.41-.59l7.78-7.78 2.81-2.81c.8-.78.8-2.07 0-2.86zM5.41 20L4 18.59l7.72-7.72 1.47 1.35L5.41 20z\"/>\n",
              "  </svg>\n",
              "      </button>\n",
              "      \n",
              "  <style>\n",
              "    .colab-df-container {\n",
              "      display:flex;\n",
              "      flex-wrap:wrap;\n",
              "      gap: 12px;\n",
              "    }\n",
              "\n",
              "    .colab-df-convert {\n",
              "      background-color: #E8F0FE;\n",
              "      border: none;\n",
              "      border-radius: 50%;\n",
              "      cursor: pointer;\n",
              "      display: none;\n",
              "      fill: #1967D2;\n",
              "      height: 32px;\n",
              "      padding: 0 0 0 0;\n",
              "      width: 32px;\n",
              "    }\n",
              "\n",
              "    .colab-df-convert:hover {\n",
              "      background-color: #E2EBFA;\n",
              "      box-shadow: 0px 1px 2px rgba(60, 64, 67, 0.3), 0px 1px 3px 1px rgba(60, 64, 67, 0.15);\n",
              "      fill: #174EA6;\n",
              "    }\n",
              "\n",
              "    [theme=dark] .colab-df-convert {\n",
              "      background-color: #3B4455;\n",
              "      fill: #D2E3FC;\n",
              "    }\n",
              "\n",
              "    [theme=dark] .colab-df-convert:hover {\n",
              "      background-color: #434B5C;\n",
              "      box-shadow: 0px 1px 3px 1px rgba(0, 0, 0, 0.15);\n",
              "      filter: drop-shadow(0px 1px 2px rgba(0, 0, 0, 0.3));\n",
              "      fill: #FFFFFF;\n",
              "    }\n",
              "  </style>\n",
              "\n",
              "      <script>\n",
              "        const buttonEl =\n",
              "          document.querySelector('#df-e759dbaf-fc03-4fae-88e7-df5081908b01 button.colab-df-convert');\n",
              "        buttonEl.style.display =\n",
              "          google.colab.kernel.accessAllowed ? 'block' : 'none';\n",
              "\n",
              "        async function convertToInteractive(key) {\n",
              "          const element = document.querySelector('#df-e759dbaf-fc03-4fae-88e7-df5081908b01');\n",
              "          const dataTable =\n",
              "            await google.colab.kernel.invokeFunction('convertToInteractive',\n",
              "                                                     [key], {});\n",
              "          if (!dataTable) return;\n",
              "\n",
              "          const docLinkHtml = 'Like what you see? Visit the ' +\n",
              "            '<a target=\"_blank\" href=https://colab.research.google.com/notebooks/data_table.ipynb>data table notebook</a>'\n",
              "            + ' to learn more about interactive tables.';\n",
              "          element.innerHTML = '';\n",
              "          dataTable['output_type'] = 'display_data';\n",
              "          await google.colab.output.renderOutput(dataTable, element);\n",
              "          const docLink = document.createElement('div');\n",
              "          docLink.innerHTML = docLinkHtml;\n",
              "          element.appendChild(docLink);\n",
              "        }\n",
              "      </script>\n",
              "    </div>\n",
              "  </div>\n",
              "  "
            ]
          },
          "metadata": {},
          "execution_count": 66
        }
      ]
    },
    {
      "cell_type": "code",
      "source": [
        "df2.tail()"
      ],
      "metadata": {
        "colab": {
          "base_uri": "https://localhost:8080/",
          "height": 409
        },
        "id": "4783vBKqxB7Z",
        "outputId": "10014b49-618c-42fc-9fcc-cc1df4b8a232"
      },
      "execution_count": 67,
      "outputs": [
        {
          "output_type": "execute_result",
          "data": {
            "text/plain": [
              "             ID  Loan Amount  Funded Amount  Funded Amount Investor  Term  \\\n",
              "28908  11537800        35000          35000                 35000.0    60   \n",
              "28909  11538258        25000          25000                 25000.0    60   \n",
              "28910  13147685        30000          30000                 29950.0    60   \n",
              "28911  13917689        25000          25000                 24950.0    60   \n",
              "28912  10763026        24925          24925                 24925.0    60   \n",
              "\n",
              "      Batch Enrolled  Interest Rate Grade Sub Grade Employment Duration  \\\n",
              "28908     BAT5629144          16.24     C        C5            MORTGAGE   \n",
              "28909     BAT5629144          14.98     C        C3            MORTGAGE   \n",
              "28910     BAT2136391          18.24     D        D5            MORTGAGE   \n",
              "28911     BAT2136391          15.61     D        D1            MORTGAGE   \n",
              "28912     BAT2575549          14.30     C        C1            MORTGAGE   \n",
              "\n",
              "       Home Ownership Verification Status Payment Plan  \\\n",
              "28908        360000.0            Verified            n   \n",
              "28909        105000.0     Source Verified            n   \n",
              "28910         74100.0            Verified            n   \n",
              "28911        130000.0            Verified            n   \n",
              "28912         56000.0            Verified            n   \n",
              "\n",
              "                    Loan Title  Debit to Income  Delinquency - two years  \\\n",
              "28908  Credit card refinancing             7.31                        0   \n",
              "28909       Debt consolidation            10.22                        0   \n",
              "28910       Debt consolidation            27.30                        0   \n",
              "28911       Debt consolidation            27.29                        2   \n",
              "28912       Debt consolidation            10.39                        0   \n",
              "\n",
              "       Inquires - six months  Open Account  Public Record  Revolving Balance  \\\n",
              "28908                      0             8              1              83274   \n",
              "28909                      1            10              0              26356   \n",
              "28910                      0            19              0              31303   \n",
              "28911                      0            12              0              25470   \n",
              "28912                      0            19              0              18591   \n",
              "\n",
              "       Revolving Utilities  Total Accounts Initial List Status  \\\n",
              "28908                 72.2              16                   f   \n",
              "28909                 50.9              26                   f   \n",
              "28910                 47.7              45                   f   \n",
              "28911                 83.8              34                   f   \n",
              "28912                 29.6              47                   f   \n",
              "\n",
              "       Total Received Interest  Total Received Late Fee  Recoveries  \\\n",
              "28908                 10116.33                      0.0         0.0   \n",
              "28909                  6493.95                      0.0         0.0   \n",
              "28910                  7785.19                      0.0         0.0   \n",
              "28911                  5513.52                      0.0         0.0   \n",
              "28912                  6299.81                      0.0         0.0   \n",
              "\n",
              "       Collection Recovery Fee  Collection 12 months Medical Application Type  \\\n",
              "28908                      0.0                             0       INDIVIDUAL   \n",
              "28909                      0.0                             0       INDIVIDUAL   \n",
              "28910                      0.0                             1       INDIVIDUAL   \n",
              "28911                      0.0                             0       INDIVIDUAL   \n",
              "28912                      0.0                             0       INDIVIDUAL   \n",
              "\n",
              "       Last week Pay  Accounts Delinquent  Total Collection Amount  \\\n",
              "28908            109                    0                        0   \n",
              "28909            104                    0                        0   \n",
              "28910             83                    0                        0   \n",
              "28911             83                    0                        0   \n",
              "28912            109                    0                        0   \n",
              "\n",
              "       Total Current Balance  Total Revolving Credit Limit  \n",
              "28908                 883984                        114000  \n",
              "28909                 513925                         51800  \n",
              "28910                 296294                         65600  \n",
              "28911                 428723                         30400  \n",
              "28912                 283758                         62900  "
            ],
            "text/html": [
              "\n",
              "  <div id=\"df-82c44191-0001-4c19-80c3-8ca913e0d9b8\">\n",
              "    <div class=\"colab-df-container\">\n",
              "      <div>\n",
              "<style scoped>\n",
              "    .dataframe tbody tr th:only-of-type {\n",
              "        vertical-align: middle;\n",
              "    }\n",
              "\n",
              "    .dataframe tbody tr th {\n",
              "        vertical-align: top;\n",
              "    }\n",
              "\n",
              "    .dataframe thead th {\n",
              "        text-align: right;\n",
              "    }\n",
              "</style>\n",
              "<table border=\"1\" class=\"dataframe\">\n",
              "  <thead>\n",
              "    <tr style=\"text-align: right;\">\n",
              "      <th></th>\n",
              "      <th>ID</th>\n",
              "      <th>Loan Amount</th>\n",
              "      <th>Funded Amount</th>\n",
              "      <th>Funded Amount Investor</th>\n",
              "      <th>Term</th>\n",
              "      <th>Batch Enrolled</th>\n",
              "      <th>Interest Rate</th>\n",
              "      <th>Grade</th>\n",
              "      <th>Sub Grade</th>\n",
              "      <th>Employment Duration</th>\n",
              "      <th>Home Ownership</th>\n",
              "      <th>Verification Status</th>\n",
              "      <th>Payment Plan</th>\n",
              "      <th>Loan Title</th>\n",
              "      <th>Debit to Income</th>\n",
              "      <th>Delinquency - two years</th>\n",
              "      <th>Inquires - six months</th>\n",
              "      <th>Open Account</th>\n",
              "      <th>Public Record</th>\n",
              "      <th>Revolving Balance</th>\n",
              "      <th>Revolving Utilities</th>\n",
              "      <th>Total Accounts</th>\n",
              "      <th>Initial List Status</th>\n",
              "      <th>Total Received Interest</th>\n",
              "      <th>Total Received Late Fee</th>\n",
              "      <th>Recoveries</th>\n",
              "      <th>Collection Recovery Fee</th>\n",
              "      <th>Collection 12 months Medical</th>\n",
              "      <th>Application Type</th>\n",
              "      <th>Last week Pay</th>\n",
              "      <th>Accounts Delinquent</th>\n",
              "      <th>Total Collection Amount</th>\n",
              "      <th>Total Current Balance</th>\n",
              "      <th>Total Revolving Credit Limit</th>\n",
              "    </tr>\n",
              "  </thead>\n",
              "  <tbody>\n",
              "    <tr>\n",
              "      <th>28908</th>\n",
              "      <td>11537800</td>\n",
              "      <td>35000</td>\n",
              "      <td>35000</td>\n",
              "      <td>35000.0</td>\n",
              "      <td>60</td>\n",
              "      <td>BAT5629144</td>\n",
              "      <td>16.24</td>\n",
              "      <td>C</td>\n",
              "      <td>C5</td>\n",
              "      <td>MORTGAGE</td>\n",
              "      <td>360000.0</td>\n",
              "      <td>Verified</td>\n",
              "      <td>n</td>\n",
              "      <td>Credit card refinancing</td>\n",
              "      <td>7.31</td>\n",
              "      <td>0</td>\n",
              "      <td>0</td>\n",
              "      <td>8</td>\n",
              "      <td>1</td>\n",
              "      <td>83274</td>\n",
              "      <td>72.2</td>\n",
              "      <td>16</td>\n",
              "      <td>f</td>\n",
              "      <td>10116.33</td>\n",
              "      <td>0.0</td>\n",
              "      <td>0.0</td>\n",
              "      <td>0.0</td>\n",
              "      <td>0</td>\n",
              "      <td>INDIVIDUAL</td>\n",
              "      <td>109</td>\n",
              "      <td>0</td>\n",
              "      <td>0</td>\n",
              "      <td>883984</td>\n",
              "      <td>114000</td>\n",
              "    </tr>\n",
              "    <tr>\n",
              "      <th>28909</th>\n",
              "      <td>11538258</td>\n",
              "      <td>25000</td>\n",
              "      <td>25000</td>\n",
              "      <td>25000.0</td>\n",
              "      <td>60</td>\n",
              "      <td>BAT5629144</td>\n",
              "      <td>14.98</td>\n",
              "      <td>C</td>\n",
              "      <td>C3</td>\n",
              "      <td>MORTGAGE</td>\n",
              "      <td>105000.0</td>\n",
              "      <td>Source Verified</td>\n",
              "      <td>n</td>\n",
              "      <td>Debt consolidation</td>\n",
              "      <td>10.22</td>\n",
              "      <td>0</td>\n",
              "      <td>1</td>\n",
              "      <td>10</td>\n",
              "      <td>0</td>\n",
              "      <td>26356</td>\n",
              "      <td>50.9</td>\n",
              "      <td>26</td>\n",
              "      <td>f</td>\n",
              "      <td>6493.95</td>\n",
              "      <td>0.0</td>\n",
              "      <td>0.0</td>\n",
              "      <td>0.0</td>\n",
              "      <td>0</td>\n",
              "      <td>INDIVIDUAL</td>\n",
              "      <td>104</td>\n",
              "      <td>0</td>\n",
              "      <td>0</td>\n",
              "      <td>513925</td>\n",
              "      <td>51800</td>\n",
              "    </tr>\n",
              "    <tr>\n",
              "      <th>28910</th>\n",
              "      <td>13147685</td>\n",
              "      <td>30000</td>\n",
              "      <td>30000</td>\n",
              "      <td>29950.0</td>\n",
              "      <td>60</td>\n",
              "      <td>BAT2136391</td>\n",
              "      <td>18.24</td>\n",
              "      <td>D</td>\n",
              "      <td>D5</td>\n",
              "      <td>MORTGAGE</td>\n",
              "      <td>74100.0</td>\n",
              "      <td>Verified</td>\n",
              "      <td>n</td>\n",
              "      <td>Debt consolidation</td>\n",
              "      <td>27.30</td>\n",
              "      <td>0</td>\n",
              "      <td>0</td>\n",
              "      <td>19</td>\n",
              "      <td>0</td>\n",
              "      <td>31303</td>\n",
              "      <td>47.7</td>\n",
              "      <td>45</td>\n",
              "      <td>f</td>\n",
              "      <td>7785.19</td>\n",
              "      <td>0.0</td>\n",
              "      <td>0.0</td>\n",
              "      <td>0.0</td>\n",
              "      <td>1</td>\n",
              "      <td>INDIVIDUAL</td>\n",
              "      <td>83</td>\n",
              "      <td>0</td>\n",
              "      <td>0</td>\n",
              "      <td>296294</td>\n",
              "      <td>65600</td>\n",
              "    </tr>\n",
              "    <tr>\n",
              "      <th>28911</th>\n",
              "      <td>13917689</td>\n",
              "      <td>25000</td>\n",
              "      <td>25000</td>\n",
              "      <td>24950.0</td>\n",
              "      <td>60</td>\n",
              "      <td>BAT2136391</td>\n",
              "      <td>15.61</td>\n",
              "      <td>D</td>\n",
              "      <td>D1</td>\n",
              "      <td>MORTGAGE</td>\n",
              "      <td>130000.0</td>\n",
              "      <td>Verified</td>\n",
              "      <td>n</td>\n",
              "      <td>Debt consolidation</td>\n",
              "      <td>27.29</td>\n",
              "      <td>2</td>\n",
              "      <td>0</td>\n",
              "      <td>12</td>\n",
              "      <td>0</td>\n",
              "      <td>25470</td>\n",
              "      <td>83.8</td>\n",
              "      <td>34</td>\n",
              "      <td>f</td>\n",
              "      <td>5513.52</td>\n",
              "      <td>0.0</td>\n",
              "      <td>0.0</td>\n",
              "      <td>0.0</td>\n",
              "      <td>0</td>\n",
              "      <td>INDIVIDUAL</td>\n",
              "      <td>83</td>\n",
              "      <td>0</td>\n",
              "      <td>0</td>\n",
              "      <td>428723</td>\n",
              "      <td>30400</td>\n",
              "    </tr>\n",
              "    <tr>\n",
              "      <th>28912</th>\n",
              "      <td>10763026</td>\n",
              "      <td>24925</td>\n",
              "      <td>24925</td>\n",
              "      <td>24925.0</td>\n",
              "      <td>60</td>\n",
              "      <td>BAT2575549</td>\n",
              "      <td>14.30</td>\n",
              "      <td>C</td>\n",
              "      <td>C1</td>\n",
              "      <td>MORTGAGE</td>\n",
              "      <td>56000.0</td>\n",
              "      <td>Verified</td>\n",
              "      <td>n</td>\n",
              "      <td>Debt consolidation</td>\n",
              "      <td>10.39</td>\n",
              "      <td>0</td>\n",
              "      <td>0</td>\n",
              "      <td>19</td>\n",
              "      <td>0</td>\n",
              "      <td>18591</td>\n",
              "      <td>29.6</td>\n",
              "      <td>47</td>\n",
              "      <td>f</td>\n",
              "      <td>6299.81</td>\n",
              "      <td>0.0</td>\n",
              "      <td>0.0</td>\n",
              "      <td>0.0</td>\n",
              "      <td>0</td>\n",
              "      <td>INDIVIDUAL</td>\n",
              "      <td>109</td>\n",
              "      <td>0</td>\n",
              "      <td>0</td>\n",
              "      <td>283758</td>\n",
              "      <td>62900</td>\n",
              "    </tr>\n",
              "  </tbody>\n",
              "</table>\n",
              "</div>\n",
              "      <button class=\"colab-df-convert\" onclick=\"convertToInteractive('df-82c44191-0001-4c19-80c3-8ca913e0d9b8')\"\n",
              "              title=\"Convert this dataframe to an interactive table.\"\n",
              "              style=\"display:none;\">\n",
              "        \n",
              "  <svg xmlns=\"http://www.w3.org/2000/svg\" height=\"24px\"viewBox=\"0 0 24 24\"\n",
              "       width=\"24px\">\n",
              "    <path d=\"M0 0h24v24H0V0z\" fill=\"none\"/>\n",
              "    <path d=\"M18.56 5.44l.94 2.06.94-2.06 2.06-.94-2.06-.94-.94-2.06-.94 2.06-2.06.94zm-11 1L8.5 8.5l.94-2.06 2.06-.94-2.06-.94L8.5 2.5l-.94 2.06-2.06.94zm10 10l.94 2.06.94-2.06 2.06-.94-2.06-.94-.94-2.06-.94 2.06-2.06.94z\"/><path d=\"M17.41 7.96l-1.37-1.37c-.4-.4-.92-.59-1.43-.59-.52 0-1.04.2-1.43.59L10.3 9.45l-7.72 7.72c-.78.78-.78 2.05 0 2.83L4 21.41c.39.39.9.59 1.41.59.51 0 1.02-.2 1.41-.59l7.78-7.78 2.81-2.81c.8-.78.8-2.07 0-2.86zM5.41 20L4 18.59l7.72-7.72 1.47 1.35L5.41 20z\"/>\n",
              "  </svg>\n",
              "      </button>\n",
              "      \n",
              "  <style>\n",
              "    .colab-df-container {\n",
              "      display:flex;\n",
              "      flex-wrap:wrap;\n",
              "      gap: 12px;\n",
              "    }\n",
              "\n",
              "    .colab-df-convert {\n",
              "      background-color: #E8F0FE;\n",
              "      border: none;\n",
              "      border-radius: 50%;\n",
              "      cursor: pointer;\n",
              "      display: none;\n",
              "      fill: #1967D2;\n",
              "      height: 32px;\n",
              "      padding: 0 0 0 0;\n",
              "      width: 32px;\n",
              "    }\n",
              "\n",
              "    .colab-df-convert:hover {\n",
              "      background-color: #E2EBFA;\n",
              "      box-shadow: 0px 1px 2px rgba(60, 64, 67, 0.3), 0px 1px 3px 1px rgba(60, 64, 67, 0.15);\n",
              "      fill: #174EA6;\n",
              "    }\n",
              "\n",
              "    [theme=dark] .colab-df-convert {\n",
              "      background-color: #3B4455;\n",
              "      fill: #D2E3FC;\n",
              "    }\n",
              "\n",
              "    [theme=dark] .colab-df-convert:hover {\n",
              "      background-color: #434B5C;\n",
              "      box-shadow: 0px 1px 3px 1px rgba(0, 0, 0, 0.15);\n",
              "      filter: drop-shadow(0px 1px 2px rgba(0, 0, 0, 0.3));\n",
              "      fill: #FFFFFF;\n",
              "    }\n",
              "  </style>\n",
              "\n",
              "      <script>\n",
              "        const buttonEl =\n",
              "          document.querySelector('#df-82c44191-0001-4c19-80c3-8ca913e0d9b8 button.colab-df-convert');\n",
              "        buttonEl.style.display =\n",
              "          google.colab.kernel.accessAllowed ? 'block' : 'none';\n",
              "\n",
              "        async function convertToInteractive(key) {\n",
              "          const element = document.querySelector('#df-82c44191-0001-4c19-80c3-8ca913e0d9b8');\n",
              "          const dataTable =\n",
              "            await google.colab.kernel.invokeFunction('convertToInteractive',\n",
              "                                                     [key], {});\n",
              "          if (!dataTable) return;\n",
              "\n",
              "          const docLinkHtml = 'Like what you see? Visit the ' +\n",
              "            '<a target=\"_blank\" href=https://colab.research.google.com/notebooks/data_table.ipynb>data table notebook</a>'\n",
              "            + ' to learn more about interactive tables.';\n",
              "          element.innerHTML = '';\n",
              "          dataTable['output_type'] = 'display_data';\n",
              "          await google.colab.output.renderOutput(dataTable, element);\n",
              "          const docLink = document.createElement('div');\n",
              "          docLink.innerHTML = docLinkHtml;\n",
              "          element.appendChild(docLink);\n",
              "        }\n",
              "      </script>\n",
              "    </div>\n",
              "  </div>\n",
              "  "
            ]
          },
          "metadata": {},
          "execution_count": 67
        }
      ]
    },
    {
      "cell_type": "code",
      "source": [
        "df1.shape, df2.shape"
      ],
      "metadata": {
        "colab": {
          "base_uri": "https://localhost:8080/"
        },
        "id": "I6bojd7b0JCH",
        "outputId": "90cb524b-704d-4155-9695-fc5c0fb3a9e2"
      },
      "execution_count": 68,
      "outputs": [
        {
          "output_type": "execute_result",
          "data": {
            "text/plain": [
              "((67463, 35), (28913, 34))"
            ]
          },
          "metadata": {},
          "execution_count": 68
        }
      ]
    },
    {
      "cell_type": "code",
      "source": [
        "df1.size, df2.size"
      ],
      "metadata": {
        "colab": {
          "base_uri": "https://localhost:8080/"
        },
        "id": "lJUoqo0U0ECO",
        "outputId": "eff135a9-0d0d-4744-e8b1-ff578dd46a23"
      },
      "execution_count": 69,
      "outputs": [
        {
          "output_type": "execute_result",
          "data": {
            "text/plain": [
              "(2361205, 983042)"
            ]
          },
          "metadata": {},
          "execution_count": 69
        }
      ]
    },
    {
      "cell_type": "code",
      "source": [
        "df1.describe()"
      ],
      "metadata": {
        "colab": {
          "base_uri": "https://localhost:8080/",
          "height": 399
        },
        "id": "c_uWwUu3I7ny",
        "outputId": "e21a450b-7027-4470-8f5b-2f25b06adb84"
      },
      "execution_count": 70,
      "outputs": [
        {
          "output_type": "execute_result",
          "data": {
            "text/plain": [
              "                 ID   Loan Amount  Funded Amount  Funded Amount Investor  \\\n",
              "count  6.746300e+04  67463.000000   67463.000000            67463.000000   \n",
              "mean   2.562761e+07  16848.902776   15770.599114            14621.799323   \n",
              "std    2.109155e+07   8367.865726    8150.992662             6785.345170   \n",
              "min    1.297933e+06   1014.000000    1014.000000             1114.590204   \n",
              "25%    6.570288e+06  10012.000000    9266.500000             9831.684984   \n",
              "50%    1.791565e+07  16073.000000   13042.000000            12793.682170   \n",
              "75%    4.271521e+07  22106.000000   21793.000000            17807.594120   \n",
              "max    7.224578e+07  35000.000000   34999.000000            34999.746430   \n",
              "\n",
              "               Term  Interest Rate  Home Ownership  Debit to Income  \\\n",
              "count  67463.000000   67463.000000    67463.000000     67463.000000   \n",
              "mean      58.173814      11.846258    80541.502522        23.299241   \n",
              "std        3.327441       3.718629    45029.120366         8.451824   \n",
              "min       36.000000       5.320006    14573.537170         0.675299   \n",
              "25%       58.000000       9.297147    51689.843335        16.756416   \n",
              "50%       59.000000      11.377696    69335.832680        22.656658   \n",
              "75%       59.000000      14.193533    94623.322785        30.048400   \n",
              "max       59.000000      27.182348   406561.536400        39.629862   \n",
              "\n",
              "       Delinquency - two years  Inquires - six months  Open Account  \\\n",
              "count             67463.000000           67463.000000  67463.000000   \n",
              "mean                  0.327127               0.145754     14.266561   \n",
              "std                   0.800888               0.473291      6.225060   \n",
              "min                   0.000000               0.000000      2.000000   \n",
              "25%                   0.000000               0.000000     10.000000   \n",
              "50%                   0.000000               0.000000     13.000000   \n",
              "75%                   0.000000               0.000000     16.000000   \n",
              "max                   8.000000               5.000000     37.000000   \n",
              "\n",
              "       Public Record  Revolving Balance  Revolving Utilities  Total Accounts  \\\n",
              "count   67463.000000       67463.000000         67463.000000    67463.000000   \n",
              "mean        0.081437        7699.342425            52.889443       18.627929   \n",
              "std         0.346606        7836.148190            22.539450        8.319246   \n",
              "min         0.000000           0.000000             0.005172        4.000000   \n",
              "25%         0.000000        2557.000000            38.658825       13.000000   \n",
              "50%         0.000000        5516.000000            54.082334       18.000000   \n",
              "75%         0.000000       10184.500000            69.177117       23.000000   \n",
              "max         4.000000      116933.000000           100.880050       72.000000   \n",
              "\n",
              "       Total Received Interest  Total Received Late Fee    Recoveries  \\\n",
              "count             67463.000000             67463.000000  67463.000000   \n",
              "mean               2068.992542                 1.143969     59.691578   \n",
              "std                2221.918745                 5.244365    357.026346   \n",
              "min                   4.736746                 0.000003      0.000036   \n",
              "25%                 570.903814                 0.021114      1.629818   \n",
              "50%                1330.842771                 0.043398      3.344524   \n",
              "75%                2656.956837                 0.071884      5.453727   \n",
              "max               14301.368310                42.618882   4354.467419   \n",
              "\n",
              "       Collection Recovery Fee  Collection 12 months Medical  Last week Pay  \\\n",
              "count             67463.000000                  67463.000000   67463.000000   \n",
              "mean                  1.125141                      0.021301      71.163260   \n",
              "std                   3.489885                      0.144385      43.315845   \n",
              "min                   0.000036                      0.000000       0.000000   \n",
              "25%                   0.476259                      0.000000      35.000000   \n",
              "50%                   0.780141                      0.000000      68.000000   \n",
              "75%                   1.070566                      0.000000     105.000000   \n",
              "max                 166.833000                      1.000000     161.000000   \n",
              "\n",
              "       Accounts Delinquent  Total Collection Amount  Total Current Balance  \\\n",
              "count              67463.0             67463.000000           6.746300e+04   \n",
              "mean                   0.0               146.467990           1.595739e+05   \n",
              "std                    0.0               744.382233           1.390332e+05   \n",
              "min                    0.0                 1.000000           6.170000e+02   \n",
              "25%                    0.0                24.000000           5.037900e+04   \n",
              "50%                    0.0                36.000000           1.183690e+05   \n",
              "75%                    0.0                46.000000           2.283750e+05   \n",
              "max                    0.0             16421.000000           1.177412e+06   \n",
              "\n",
              "       Total Revolving Credit Limit   Loan Status  \n",
              "count                  67463.000000  67463.000000  \n",
              "mean                   23123.005544      0.092510  \n",
              "std                    20916.699999      0.289747  \n",
              "min                     1000.000000      0.000000  \n",
              "25%                     8155.500000      0.000000  \n",
              "50%                    16733.000000      0.000000  \n",
              "75%                    32146.500000      0.000000  \n",
              "max                   201169.000000      1.000000  "
            ],
            "text/html": [
              "\n",
              "  <div id=\"df-251635b4-dabd-430d-bc16-9095f145a7d8\">\n",
              "    <div class=\"colab-df-container\">\n",
              "      <div>\n",
              "<style scoped>\n",
              "    .dataframe tbody tr th:only-of-type {\n",
              "        vertical-align: middle;\n",
              "    }\n",
              "\n",
              "    .dataframe tbody tr th {\n",
              "        vertical-align: top;\n",
              "    }\n",
              "\n",
              "    .dataframe thead th {\n",
              "        text-align: right;\n",
              "    }\n",
              "</style>\n",
              "<table border=\"1\" class=\"dataframe\">\n",
              "  <thead>\n",
              "    <tr style=\"text-align: right;\">\n",
              "      <th></th>\n",
              "      <th>ID</th>\n",
              "      <th>Loan Amount</th>\n",
              "      <th>Funded Amount</th>\n",
              "      <th>Funded Amount Investor</th>\n",
              "      <th>Term</th>\n",
              "      <th>Interest Rate</th>\n",
              "      <th>Home Ownership</th>\n",
              "      <th>Debit to Income</th>\n",
              "      <th>Delinquency - two years</th>\n",
              "      <th>Inquires - six months</th>\n",
              "      <th>Open Account</th>\n",
              "      <th>Public Record</th>\n",
              "      <th>Revolving Balance</th>\n",
              "      <th>Revolving Utilities</th>\n",
              "      <th>Total Accounts</th>\n",
              "      <th>Total Received Interest</th>\n",
              "      <th>Total Received Late Fee</th>\n",
              "      <th>Recoveries</th>\n",
              "      <th>Collection Recovery Fee</th>\n",
              "      <th>Collection 12 months Medical</th>\n",
              "      <th>Last week Pay</th>\n",
              "      <th>Accounts Delinquent</th>\n",
              "      <th>Total Collection Amount</th>\n",
              "      <th>Total Current Balance</th>\n",
              "      <th>Total Revolving Credit Limit</th>\n",
              "      <th>Loan Status</th>\n",
              "    </tr>\n",
              "  </thead>\n",
              "  <tbody>\n",
              "    <tr>\n",
              "      <th>count</th>\n",
              "      <td>6.746300e+04</td>\n",
              "      <td>67463.000000</td>\n",
              "      <td>67463.000000</td>\n",
              "      <td>67463.000000</td>\n",
              "      <td>67463.000000</td>\n",
              "      <td>67463.000000</td>\n",
              "      <td>67463.000000</td>\n",
              "      <td>67463.000000</td>\n",
              "      <td>67463.000000</td>\n",
              "      <td>67463.000000</td>\n",
              "      <td>67463.000000</td>\n",
              "      <td>67463.000000</td>\n",
              "      <td>67463.000000</td>\n",
              "      <td>67463.000000</td>\n",
              "      <td>67463.000000</td>\n",
              "      <td>67463.000000</td>\n",
              "      <td>67463.000000</td>\n",
              "      <td>67463.000000</td>\n",
              "      <td>67463.000000</td>\n",
              "      <td>67463.000000</td>\n",
              "      <td>67463.000000</td>\n",
              "      <td>67463.0</td>\n",
              "      <td>67463.000000</td>\n",
              "      <td>6.746300e+04</td>\n",
              "      <td>67463.000000</td>\n",
              "      <td>67463.000000</td>\n",
              "    </tr>\n",
              "    <tr>\n",
              "      <th>mean</th>\n",
              "      <td>2.562761e+07</td>\n",
              "      <td>16848.902776</td>\n",
              "      <td>15770.599114</td>\n",
              "      <td>14621.799323</td>\n",
              "      <td>58.173814</td>\n",
              "      <td>11.846258</td>\n",
              "      <td>80541.502522</td>\n",
              "      <td>23.299241</td>\n",
              "      <td>0.327127</td>\n",
              "      <td>0.145754</td>\n",
              "      <td>14.266561</td>\n",
              "      <td>0.081437</td>\n",
              "      <td>7699.342425</td>\n",
              "      <td>52.889443</td>\n",
              "      <td>18.627929</td>\n",
              "      <td>2068.992542</td>\n",
              "      <td>1.143969</td>\n",
              "      <td>59.691578</td>\n",
              "      <td>1.125141</td>\n",
              "      <td>0.021301</td>\n",
              "      <td>71.163260</td>\n",
              "      <td>0.0</td>\n",
              "      <td>146.467990</td>\n",
              "      <td>1.595739e+05</td>\n",
              "      <td>23123.005544</td>\n",
              "      <td>0.092510</td>\n",
              "    </tr>\n",
              "    <tr>\n",
              "      <th>std</th>\n",
              "      <td>2.109155e+07</td>\n",
              "      <td>8367.865726</td>\n",
              "      <td>8150.992662</td>\n",
              "      <td>6785.345170</td>\n",
              "      <td>3.327441</td>\n",
              "      <td>3.718629</td>\n",
              "      <td>45029.120366</td>\n",
              "      <td>8.451824</td>\n",
              "      <td>0.800888</td>\n",
              "      <td>0.473291</td>\n",
              "      <td>6.225060</td>\n",
              "      <td>0.346606</td>\n",
              "      <td>7836.148190</td>\n",
              "      <td>22.539450</td>\n",
              "      <td>8.319246</td>\n",
              "      <td>2221.918745</td>\n",
              "      <td>5.244365</td>\n",
              "      <td>357.026346</td>\n",
              "      <td>3.489885</td>\n",
              "      <td>0.144385</td>\n",
              "      <td>43.315845</td>\n",
              "      <td>0.0</td>\n",
              "      <td>744.382233</td>\n",
              "      <td>1.390332e+05</td>\n",
              "      <td>20916.699999</td>\n",
              "      <td>0.289747</td>\n",
              "    </tr>\n",
              "    <tr>\n",
              "      <th>min</th>\n",
              "      <td>1.297933e+06</td>\n",
              "      <td>1014.000000</td>\n",
              "      <td>1014.000000</td>\n",
              "      <td>1114.590204</td>\n",
              "      <td>36.000000</td>\n",
              "      <td>5.320006</td>\n",
              "      <td>14573.537170</td>\n",
              "      <td>0.675299</td>\n",
              "      <td>0.000000</td>\n",
              "      <td>0.000000</td>\n",
              "      <td>2.000000</td>\n",
              "      <td>0.000000</td>\n",
              "      <td>0.000000</td>\n",
              "      <td>0.005172</td>\n",
              "      <td>4.000000</td>\n",
              "      <td>4.736746</td>\n",
              "      <td>0.000003</td>\n",
              "      <td>0.000036</td>\n",
              "      <td>0.000036</td>\n",
              "      <td>0.000000</td>\n",
              "      <td>0.000000</td>\n",
              "      <td>0.0</td>\n",
              "      <td>1.000000</td>\n",
              "      <td>6.170000e+02</td>\n",
              "      <td>1000.000000</td>\n",
              "      <td>0.000000</td>\n",
              "    </tr>\n",
              "    <tr>\n",
              "      <th>25%</th>\n",
              "      <td>6.570288e+06</td>\n",
              "      <td>10012.000000</td>\n",
              "      <td>9266.500000</td>\n",
              "      <td>9831.684984</td>\n",
              "      <td>58.000000</td>\n",
              "      <td>9.297147</td>\n",
              "      <td>51689.843335</td>\n",
              "      <td>16.756416</td>\n",
              "      <td>0.000000</td>\n",
              "      <td>0.000000</td>\n",
              "      <td>10.000000</td>\n",
              "      <td>0.000000</td>\n",
              "      <td>2557.000000</td>\n",
              "      <td>38.658825</td>\n",
              "      <td>13.000000</td>\n",
              "      <td>570.903814</td>\n",
              "      <td>0.021114</td>\n",
              "      <td>1.629818</td>\n",
              "      <td>0.476259</td>\n",
              "      <td>0.000000</td>\n",
              "      <td>35.000000</td>\n",
              "      <td>0.0</td>\n",
              "      <td>24.000000</td>\n",
              "      <td>5.037900e+04</td>\n",
              "      <td>8155.500000</td>\n",
              "      <td>0.000000</td>\n",
              "    </tr>\n",
              "    <tr>\n",
              "      <th>50%</th>\n",
              "      <td>1.791565e+07</td>\n",
              "      <td>16073.000000</td>\n",
              "      <td>13042.000000</td>\n",
              "      <td>12793.682170</td>\n",
              "      <td>59.000000</td>\n",
              "      <td>11.377696</td>\n",
              "      <td>69335.832680</td>\n",
              "      <td>22.656658</td>\n",
              "      <td>0.000000</td>\n",
              "      <td>0.000000</td>\n",
              "      <td>13.000000</td>\n",
              "      <td>0.000000</td>\n",
              "      <td>5516.000000</td>\n",
              "      <td>54.082334</td>\n",
              "      <td>18.000000</td>\n",
              "      <td>1330.842771</td>\n",
              "      <td>0.043398</td>\n",
              "      <td>3.344524</td>\n",
              "      <td>0.780141</td>\n",
              "      <td>0.000000</td>\n",
              "      <td>68.000000</td>\n",
              "      <td>0.0</td>\n",
              "      <td>36.000000</td>\n",
              "      <td>1.183690e+05</td>\n",
              "      <td>16733.000000</td>\n",
              "      <td>0.000000</td>\n",
              "    </tr>\n",
              "    <tr>\n",
              "      <th>75%</th>\n",
              "      <td>4.271521e+07</td>\n",
              "      <td>22106.000000</td>\n",
              "      <td>21793.000000</td>\n",
              "      <td>17807.594120</td>\n",
              "      <td>59.000000</td>\n",
              "      <td>14.193533</td>\n",
              "      <td>94623.322785</td>\n",
              "      <td>30.048400</td>\n",
              "      <td>0.000000</td>\n",
              "      <td>0.000000</td>\n",
              "      <td>16.000000</td>\n",
              "      <td>0.000000</td>\n",
              "      <td>10184.500000</td>\n",
              "      <td>69.177117</td>\n",
              "      <td>23.000000</td>\n",
              "      <td>2656.956837</td>\n",
              "      <td>0.071884</td>\n",
              "      <td>5.453727</td>\n",
              "      <td>1.070566</td>\n",
              "      <td>0.000000</td>\n",
              "      <td>105.000000</td>\n",
              "      <td>0.0</td>\n",
              "      <td>46.000000</td>\n",
              "      <td>2.283750e+05</td>\n",
              "      <td>32146.500000</td>\n",
              "      <td>0.000000</td>\n",
              "    </tr>\n",
              "    <tr>\n",
              "      <th>max</th>\n",
              "      <td>7.224578e+07</td>\n",
              "      <td>35000.000000</td>\n",
              "      <td>34999.000000</td>\n",
              "      <td>34999.746430</td>\n",
              "      <td>59.000000</td>\n",
              "      <td>27.182348</td>\n",
              "      <td>406561.536400</td>\n",
              "      <td>39.629862</td>\n",
              "      <td>8.000000</td>\n",
              "      <td>5.000000</td>\n",
              "      <td>37.000000</td>\n",
              "      <td>4.000000</td>\n",
              "      <td>116933.000000</td>\n",
              "      <td>100.880050</td>\n",
              "      <td>72.000000</td>\n",
              "      <td>14301.368310</td>\n",
              "      <td>42.618882</td>\n",
              "      <td>4354.467419</td>\n",
              "      <td>166.833000</td>\n",
              "      <td>1.000000</td>\n",
              "      <td>161.000000</td>\n",
              "      <td>0.0</td>\n",
              "      <td>16421.000000</td>\n",
              "      <td>1.177412e+06</td>\n",
              "      <td>201169.000000</td>\n",
              "      <td>1.000000</td>\n",
              "    </tr>\n",
              "  </tbody>\n",
              "</table>\n",
              "</div>\n",
              "      <button class=\"colab-df-convert\" onclick=\"convertToInteractive('df-251635b4-dabd-430d-bc16-9095f145a7d8')\"\n",
              "              title=\"Convert this dataframe to an interactive table.\"\n",
              "              style=\"display:none;\">\n",
              "        \n",
              "  <svg xmlns=\"http://www.w3.org/2000/svg\" height=\"24px\"viewBox=\"0 0 24 24\"\n",
              "       width=\"24px\">\n",
              "    <path d=\"M0 0h24v24H0V0z\" fill=\"none\"/>\n",
              "    <path d=\"M18.56 5.44l.94 2.06.94-2.06 2.06-.94-2.06-.94-.94-2.06-.94 2.06-2.06.94zm-11 1L8.5 8.5l.94-2.06 2.06-.94-2.06-.94L8.5 2.5l-.94 2.06-2.06.94zm10 10l.94 2.06.94-2.06 2.06-.94-2.06-.94-.94-2.06-.94 2.06-2.06.94z\"/><path d=\"M17.41 7.96l-1.37-1.37c-.4-.4-.92-.59-1.43-.59-.52 0-1.04.2-1.43.59L10.3 9.45l-7.72 7.72c-.78.78-.78 2.05 0 2.83L4 21.41c.39.39.9.59 1.41.59.51 0 1.02-.2 1.41-.59l7.78-7.78 2.81-2.81c.8-.78.8-2.07 0-2.86zM5.41 20L4 18.59l7.72-7.72 1.47 1.35L5.41 20z\"/>\n",
              "  </svg>\n",
              "      </button>\n",
              "      \n",
              "  <style>\n",
              "    .colab-df-container {\n",
              "      display:flex;\n",
              "      flex-wrap:wrap;\n",
              "      gap: 12px;\n",
              "    }\n",
              "\n",
              "    .colab-df-convert {\n",
              "      background-color: #E8F0FE;\n",
              "      border: none;\n",
              "      border-radius: 50%;\n",
              "      cursor: pointer;\n",
              "      display: none;\n",
              "      fill: #1967D2;\n",
              "      height: 32px;\n",
              "      padding: 0 0 0 0;\n",
              "      width: 32px;\n",
              "    }\n",
              "\n",
              "    .colab-df-convert:hover {\n",
              "      background-color: #E2EBFA;\n",
              "      box-shadow: 0px 1px 2px rgba(60, 64, 67, 0.3), 0px 1px 3px 1px rgba(60, 64, 67, 0.15);\n",
              "      fill: #174EA6;\n",
              "    }\n",
              "\n",
              "    [theme=dark] .colab-df-convert {\n",
              "      background-color: #3B4455;\n",
              "      fill: #D2E3FC;\n",
              "    }\n",
              "\n",
              "    [theme=dark] .colab-df-convert:hover {\n",
              "      background-color: #434B5C;\n",
              "      box-shadow: 0px 1px 3px 1px rgba(0, 0, 0, 0.15);\n",
              "      filter: drop-shadow(0px 1px 2px rgba(0, 0, 0, 0.3));\n",
              "      fill: #FFFFFF;\n",
              "    }\n",
              "  </style>\n",
              "\n",
              "      <script>\n",
              "        const buttonEl =\n",
              "          document.querySelector('#df-251635b4-dabd-430d-bc16-9095f145a7d8 button.colab-df-convert');\n",
              "        buttonEl.style.display =\n",
              "          google.colab.kernel.accessAllowed ? 'block' : 'none';\n",
              "\n",
              "        async function convertToInteractive(key) {\n",
              "          const element = document.querySelector('#df-251635b4-dabd-430d-bc16-9095f145a7d8');\n",
              "          const dataTable =\n",
              "            await google.colab.kernel.invokeFunction('convertToInteractive',\n",
              "                                                     [key], {});\n",
              "          if (!dataTable) return;\n",
              "\n",
              "          const docLinkHtml = 'Like what you see? Visit the ' +\n",
              "            '<a target=\"_blank\" href=https://colab.research.google.com/notebooks/data_table.ipynb>data table notebook</a>'\n",
              "            + ' to learn more about interactive tables.';\n",
              "          element.innerHTML = '';\n",
              "          dataTable['output_type'] = 'display_data';\n",
              "          await google.colab.output.renderOutput(dataTable, element);\n",
              "          const docLink = document.createElement('div');\n",
              "          docLink.innerHTML = docLinkHtml;\n",
              "          element.appendChild(docLink);\n",
              "        }\n",
              "      </script>\n",
              "    </div>\n",
              "  </div>\n",
              "  "
            ]
          },
          "metadata": {},
          "execution_count": 70
        }
      ]
    },
    {
      "cell_type": "code",
      "source": [
        "df2.describe()"
      ],
      "metadata": {
        "colab": {
          "base_uri": "https://localhost:8080/",
          "height": 399
        },
        "id": "L_V-0vGAKRox",
        "outputId": "2fb6efd9-6dab-47c3-a1e9-95b9fd55599e"
      },
      "execution_count": 71,
      "outputs": [
        {
          "output_type": "execute_result",
          "data": {
            "text/plain": [
              "                 ID   Loan Amount  Funded Amount  Funded Amount Investor  \\\n",
              "count  2.891300e+04  28913.000000   28913.000000            28913.000000   \n",
              "mean   2.944966e+07  16404.027462   15619.911113            14741.536698   \n",
              "std    2.206842e+07   8358.898287    8229.977503             7230.397758   \n",
              "min    1.297893e+06   1000.000000    1000.000000             1000.000000   \n",
              "25%    8.272049e+06   9776.000000    9175.000000             9695.445501   \n",
              "50%    2.596622e+07  15600.000000   13200.000000            12930.601270   \n",
              "75%    4.855801e+07  21651.000000   21552.000000            19226.397540   \n",
              "max    7.226845e+07  35000.000000   35000.000000            35000.000000   \n",
              "\n",
              "               Term  Interest Rate  Home Ownership  Debit to Income  \\\n",
              "count  28913.000000   28913.000000    28913.000000     28913.000000   \n",
              "mean      54.543078      12.187577    79983.752348        22.159266   \n",
              "std        8.991800       3.911259    45231.316383         8.657629   \n",
              "min       36.000000       5.320000    14907.925920         0.730000   \n",
              "25%       58.000000       9.422042    50791.000000        15.622891   \n",
              "50%       59.000000      11.688652    68894.324470        21.530000   \n",
              "75%       59.000000      14.640000    94684.941810        28.840000   \n",
              "max       60.000000      27.310000   406944.859000        39.629977   \n",
              "\n",
              "       Delinquency - two years  Inquires - six months  Open Account  \\\n",
              "count             28913.000000           28913.000000  28913.000000   \n",
              "mean                  0.332065               0.276900     13.663439   \n",
              "std                   0.818869               0.663999      6.114777   \n",
              "min                   0.000000               0.000000      2.000000   \n",
              "25%                   0.000000               0.000000     10.000000   \n",
              "50%                   0.000000               0.000000     12.000000   \n",
              "75%                   0.000000               0.000000     15.000000   \n",
              "max                   9.000000               5.000000     37.000000   \n",
              "\n",
              "       Public Record  Revolving Balance  Revolving Utilities  Total Accounts  \\\n",
              "count   28913.000000       28913.000000         28913.000000    28913.000000   \n",
              "mean        0.111092        9937.451423            53.860078       20.398540   \n",
              "std         0.388741       10931.313717            22.801701        9.650339   \n",
              "min         0.000000           0.000000             0.000000        4.000000   \n",
              "25%         0.000000        3177.000000            38.997949       14.000000   \n",
              "50%         0.000000        6769.000000            54.867003       19.000000   \n",
              "75%         0.000000       12803.000000            70.521791       25.000000   \n",
              "max         4.000000      188657.000000           100.799622       73.000000   \n",
              "\n",
              "       Total Received Interest  Total Received Late Fee    Recoveries  \\\n",
              "count             28913.000000             28913.000000  28913.000000   \n",
              "mean               1917.754435                 0.922863     50.624944   \n",
              "std                2109.442877                 4.765042    336.450176   \n",
              "min                   4.794657                 0.000000      0.000000   \n",
              "25%                 524.130000                 0.000000      0.000000   \n",
              "50%                1216.347147                 0.027878      2.165909   \n",
              "75%                2474.594118                 0.061107      4.610188   \n",
              "max               14313.816110                42.520996   4325.594909   \n",
              "\n",
              "       Collection Recovery Fee  Collection 12 months Medical  Last week Pay  \\\n",
              "count             28913.000000                  28913.000000   28913.000000   \n",
              "mean                  1.393220                      0.019576      65.007574   \n",
              "std                  15.139809                      0.138540      42.494090   \n",
              "min                   0.000000                      0.000000       0.000000   \n",
              "25%                   0.000000                      0.000000      29.000000   \n",
              "50%                   0.579620                      0.000000      60.000000   \n",
              "75%                   0.974739                      0.000000      95.000000   \n",
              "max                 743.166000                      1.000000     161.000000   \n",
              "\n",
              "       Accounts Delinquent  Total Collection Amount  Total Current Balance  \\\n",
              "count         28913.000000             28913.000000           2.891300e+04   \n",
              "mean              0.000968               159.747553           1.530975e+05   \n",
              "std               0.031105               911.671785           1.391309e+05   \n",
              "min               0.000000                 0.000000           6.260000e+02   \n",
              "25%               0.000000                 3.000000           4.397200e+04   \n",
              "50%               0.000000                30.000000           1.092860e+05   \n",
              "75%               0.000000                44.000000           2.222960e+05   \n",
              "max               1.000000             27076.000000           1.183282e+06   \n",
              "\n",
              "       Total Revolving Credit Limit  \n",
              "count                  28913.000000  \n",
              "mean                   25013.808425  \n",
              "std                    22284.519460  \n",
              "min                     1000.000000  \n",
              "25%                     9325.000000  \n",
              "50%                    18848.000000  \n",
              "75%                    33860.000000  \n",
              "max                   233500.000000  "
            ],
            "text/html": [
              "\n",
              "  <div id=\"df-d8ac074c-66b4-45dd-893b-2aba276ad739\">\n",
              "    <div class=\"colab-df-container\">\n",
              "      <div>\n",
              "<style scoped>\n",
              "    .dataframe tbody tr th:only-of-type {\n",
              "        vertical-align: middle;\n",
              "    }\n",
              "\n",
              "    .dataframe tbody tr th {\n",
              "        vertical-align: top;\n",
              "    }\n",
              "\n",
              "    .dataframe thead th {\n",
              "        text-align: right;\n",
              "    }\n",
              "</style>\n",
              "<table border=\"1\" class=\"dataframe\">\n",
              "  <thead>\n",
              "    <tr style=\"text-align: right;\">\n",
              "      <th></th>\n",
              "      <th>ID</th>\n",
              "      <th>Loan Amount</th>\n",
              "      <th>Funded Amount</th>\n",
              "      <th>Funded Amount Investor</th>\n",
              "      <th>Term</th>\n",
              "      <th>Interest Rate</th>\n",
              "      <th>Home Ownership</th>\n",
              "      <th>Debit to Income</th>\n",
              "      <th>Delinquency - two years</th>\n",
              "      <th>Inquires - six months</th>\n",
              "      <th>Open Account</th>\n",
              "      <th>Public Record</th>\n",
              "      <th>Revolving Balance</th>\n",
              "      <th>Revolving Utilities</th>\n",
              "      <th>Total Accounts</th>\n",
              "      <th>Total Received Interest</th>\n",
              "      <th>Total Received Late Fee</th>\n",
              "      <th>Recoveries</th>\n",
              "      <th>Collection Recovery Fee</th>\n",
              "      <th>Collection 12 months Medical</th>\n",
              "      <th>Last week Pay</th>\n",
              "      <th>Accounts Delinquent</th>\n",
              "      <th>Total Collection Amount</th>\n",
              "      <th>Total Current Balance</th>\n",
              "      <th>Total Revolving Credit Limit</th>\n",
              "    </tr>\n",
              "  </thead>\n",
              "  <tbody>\n",
              "    <tr>\n",
              "      <th>count</th>\n",
              "      <td>2.891300e+04</td>\n",
              "      <td>28913.000000</td>\n",
              "      <td>28913.000000</td>\n",
              "      <td>28913.000000</td>\n",
              "      <td>28913.000000</td>\n",
              "      <td>28913.000000</td>\n",
              "      <td>28913.000000</td>\n",
              "      <td>28913.000000</td>\n",
              "      <td>28913.000000</td>\n",
              "      <td>28913.000000</td>\n",
              "      <td>28913.000000</td>\n",
              "      <td>28913.000000</td>\n",
              "      <td>28913.000000</td>\n",
              "      <td>28913.000000</td>\n",
              "      <td>28913.000000</td>\n",
              "      <td>28913.000000</td>\n",
              "      <td>28913.000000</td>\n",
              "      <td>28913.000000</td>\n",
              "      <td>28913.000000</td>\n",
              "      <td>28913.000000</td>\n",
              "      <td>28913.000000</td>\n",
              "      <td>28913.000000</td>\n",
              "      <td>28913.000000</td>\n",
              "      <td>2.891300e+04</td>\n",
              "      <td>28913.000000</td>\n",
              "    </tr>\n",
              "    <tr>\n",
              "      <th>mean</th>\n",
              "      <td>2.944966e+07</td>\n",
              "      <td>16404.027462</td>\n",
              "      <td>15619.911113</td>\n",
              "      <td>14741.536698</td>\n",
              "      <td>54.543078</td>\n",
              "      <td>12.187577</td>\n",
              "      <td>79983.752348</td>\n",
              "      <td>22.159266</td>\n",
              "      <td>0.332065</td>\n",
              "      <td>0.276900</td>\n",
              "      <td>13.663439</td>\n",
              "      <td>0.111092</td>\n",
              "      <td>9937.451423</td>\n",
              "      <td>53.860078</td>\n",
              "      <td>20.398540</td>\n",
              "      <td>1917.754435</td>\n",
              "      <td>0.922863</td>\n",
              "      <td>50.624944</td>\n",
              "      <td>1.393220</td>\n",
              "      <td>0.019576</td>\n",
              "      <td>65.007574</td>\n",
              "      <td>0.000968</td>\n",
              "      <td>159.747553</td>\n",
              "      <td>1.530975e+05</td>\n",
              "      <td>25013.808425</td>\n",
              "    </tr>\n",
              "    <tr>\n",
              "      <th>std</th>\n",
              "      <td>2.206842e+07</td>\n",
              "      <td>8358.898287</td>\n",
              "      <td>8229.977503</td>\n",
              "      <td>7230.397758</td>\n",
              "      <td>8.991800</td>\n",
              "      <td>3.911259</td>\n",
              "      <td>45231.316383</td>\n",
              "      <td>8.657629</td>\n",
              "      <td>0.818869</td>\n",
              "      <td>0.663999</td>\n",
              "      <td>6.114777</td>\n",
              "      <td>0.388741</td>\n",
              "      <td>10931.313717</td>\n",
              "      <td>22.801701</td>\n",
              "      <td>9.650339</td>\n",
              "      <td>2109.442877</td>\n",
              "      <td>4.765042</td>\n",
              "      <td>336.450176</td>\n",
              "      <td>15.139809</td>\n",
              "      <td>0.138540</td>\n",
              "      <td>42.494090</td>\n",
              "      <td>0.031105</td>\n",
              "      <td>911.671785</td>\n",
              "      <td>1.391309e+05</td>\n",
              "      <td>22284.519460</td>\n",
              "    </tr>\n",
              "    <tr>\n",
              "      <th>min</th>\n",
              "      <td>1.297893e+06</td>\n",
              "      <td>1000.000000</td>\n",
              "      <td>1000.000000</td>\n",
              "      <td>1000.000000</td>\n",
              "      <td>36.000000</td>\n",
              "      <td>5.320000</td>\n",
              "      <td>14907.925920</td>\n",
              "      <td>0.730000</td>\n",
              "      <td>0.000000</td>\n",
              "      <td>0.000000</td>\n",
              "      <td>2.000000</td>\n",
              "      <td>0.000000</td>\n",
              "      <td>0.000000</td>\n",
              "      <td>0.000000</td>\n",
              "      <td>4.000000</td>\n",
              "      <td>4.794657</td>\n",
              "      <td>0.000000</td>\n",
              "      <td>0.000000</td>\n",
              "      <td>0.000000</td>\n",
              "      <td>0.000000</td>\n",
              "      <td>0.000000</td>\n",
              "      <td>0.000000</td>\n",
              "      <td>0.000000</td>\n",
              "      <td>6.260000e+02</td>\n",
              "      <td>1000.000000</td>\n",
              "    </tr>\n",
              "    <tr>\n",
              "      <th>25%</th>\n",
              "      <td>8.272049e+06</td>\n",
              "      <td>9776.000000</td>\n",
              "      <td>9175.000000</td>\n",
              "      <td>9695.445501</td>\n",
              "      <td>58.000000</td>\n",
              "      <td>9.422042</td>\n",
              "      <td>50791.000000</td>\n",
              "      <td>15.622891</td>\n",
              "      <td>0.000000</td>\n",
              "      <td>0.000000</td>\n",
              "      <td>10.000000</td>\n",
              "      <td>0.000000</td>\n",
              "      <td>3177.000000</td>\n",
              "      <td>38.997949</td>\n",
              "      <td>14.000000</td>\n",
              "      <td>524.130000</td>\n",
              "      <td>0.000000</td>\n",
              "      <td>0.000000</td>\n",
              "      <td>0.000000</td>\n",
              "      <td>0.000000</td>\n",
              "      <td>29.000000</td>\n",
              "      <td>0.000000</td>\n",
              "      <td>3.000000</td>\n",
              "      <td>4.397200e+04</td>\n",
              "      <td>9325.000000</td>\n",
              "    </tr>\n",
              "    <tr>\n",
              "      <th>50%</th>\n",
              "      <td>2.596622e+07</td>\n",
              "      <td>15600.000000</td>\n",
              "      <td>13200.000000</td>\n",
              "      <td>12930.601270</td>\n",
              "      <td>59.000000</td>\n",
              "      <td>11.688652</td>\n",
              "      <td>68894.324470</td>\n",
              "      <td>21.530000</td>\n",
              "      <td>0.000000</td>\n",
              "      <td>0.000000</td>\n",
              "      <td>12.000000</td>\n",
              "      <td>0.000000</td>\n",
              "      <td>6769.000000</td>\n",
              "      <td>54.867003</td>\n",
              "      <td>19.000000</td>\n",
              "      <td>1216.347147</td>\n",
              "      <td>0.027878</td>\n",
              "      <td>2.165909</td>\n",
              "      <td>0.579620</td>\n",
              "      <td>0.000000</td>\n",
              "      <td>60.000000</td>\n",
              "      <td>0.000000</td>\n",
              "      <td>30.000000</td>\n",
              "      <td>1.092860e+05</td>\n",
              "      <td>18848.000000</td>\n",
              "    </tr>\n",
              "    <tr>\n",
              "      <th>75%</th>\n",
              "      <td>4.855801e+07</td>\n",
              "      <td>21651.000000</td>\n",
              "      <td>21552.000000</td>\n",
              "      <td>19226.397540</td>\n",
              "      <td>59.000000</td>\n",
              "      <td>14.640000</td>\n",
              "      <td>94684.941810</td>\n",
              "      <td>28.840000</td>\n",
              "      <td>0.000000</td>\n",
              "      <td>0.000000</td>\n",
              "      <td>15.000000</td>\n",
              "      <td>0.000000</td>\n",
              "      <td>12803.000000</td>\n",
              "      <td>70.521791</td>\n",
              "      <td>25.000000</td>\n",
              "      <td>2474.594118</td>\n",
              "      <td>0.061107</td>\n",
              "      <td>4.610188</td>\n",
              "      <td>0.974739</td>\n",
              "      <td>0.000000</td>\n",
              "      <td>95.000000</td>\n",
              "      <td>0.000000</td>\n",
              "      <td>44.000000</td>\n",
              "      <td>2.222960e+05</td>\n",
              "      <td>33860.000000</td>\n",
              "    </tr>\n",
              "    <tr>\n",
              "      <th>max</th>\n",
              "      <td>7.226845e+07</td>\n",
              "      <td>35000.000000</td>\n",
              "      <td>35000.000000</td>\n",
              "      <td>35000.000000</td>\n",
              "      <td>60.000000</td>\n",
              "      <td>27.310000</td>\n",
              "      <td>406944.859000</td>\n",
              "      <td>39.629977</td>\n",
              "      <td>9.000000</td>\n",
              "      <td>5.000000</td>\n",
              "      <td>37.000000</td>\n",
              "      <td>4.000000</td>\n",
              "      <td>188657.000000</td>\n",
              "      <td>100.799622</td>\n",
              "      <td>73.000000</td>\n",
              "      <td>14313.816110</td>\n",
              "      <td>42.520996</td>\n",
              "      <td>4325.594909</td>\n",
              "      <td>743.166000</td>\n",
              "      <td>1.000000</td>\n",
              "      <td>161.000000</td>\n",
              "      <td>1.000000</td>\n",
              "      <td>27076.000000</td>\n",
              "      <td>1.183282e+06</td>\n",
              "      <td>233500.000000</td>\n",
              "    </tr>\n",
              "  </tbody>\n",
              "</table>\n",
              "</div>\n",
              "      <button class=\"colab-df-convert\" onclick=\"convertToInteractive('df-d8ac074c-66b4-45dd-893b-2aba276ad739')\"\n",
              "              title=\"Convert this dataframe to an interactive table.\"\n",
              "              style=\"display:none;\">\n",
              "        \n",
              "  <svg xmlns=\"http://www.w3.org/2000/svg\" height=\"24px\"viewBox=\"0 0 24 24\"\n",
              "       width=\"24px\">\n",
              "    <path d=\"M0 0h24v24H0V0z\" fill=\"none\"/>\n",
              "    <path d=\"M18.56 5.44l.94 2.06.94-2.06 2.06-.94-2.06-.94-.94-2.06-.94 2.06-2.06.94zm-11 1L8.5 8.5l.94-2.06 2.06-.94-2.06-.94L8.5 2.5l-.94 2.06-2.06.94zm10 10l.94 2.06.94-2.06 2.06-.94-2.06-.94-.94-2.06-.94 2.06-2.06.94z\"/><path d=\"M17.41 7.96l-1.37-1.37c-.4-.4-.92-.59-1.43-.59-.52 0-1.04.2-1.43.59L10.3 9.45l-7.72 7.72c-.78.78-.78 2.05 0 2.83L4 21.41c.39.39.9.59 1.41.59.51 0 1.02-.2 1.41-.59l7.78-7.78 2.81-2.81c.8-.78.8-2.07 0-2.86zM5.41 20L4 18.59l7.72-7.72 1.47 1.35L5.41 20z\"/>\n",
              "  </svg>\n",
              "      </button>\n",
              "      \n",
              "  <style>\n",
              "    .colab-df-container {\n",
              "      display:flex;\n",
              "      flex-wrap:wrap;\n",
              "      gap: 12px;\n",
              "    }\n",
              "\n",
              "    .colab-df-convert {\n",
              "      background-color: #E8F0FE;\n",
              "      border: none;\n",
              "      border-radius: 50%;\n",
              "      cursor: pointer;\n",
              "      display: none;\n",
              "      fill: #1967D2;\n",
              "      height: 32px;\n",
              "      padding: 0 0 0 0;\n",
              "      width: 32px;\n",
              "    }\n",
              "\n",
              "    .colab-df-convert:hover {\n",
              "      background-color: #E2EBFA;\n",
              "      box-shadow: 0px 1px 2px rgba(60, 64, 67, 0.3), 0px 1px 3px 1px rgba(60, 64, 67, 0.15);\n",
              "      fill: #174EA6;\n",
              "    }\n",
              "\n",
              "    [theme=dark] .colab-df-convert {\n",
              "      background-color: #3B4455;\n",
              "      fill: #D2E3FC;\n",
              "    }\n",
              "\n",
              "    [theme=dark] .colab-df-convert:hover {\n",
              "      background-color: #434B5C;\n",
              "      box-shadow: 0px 1px 3px 1px rgba(0, 0, 0, 0.15);\n",
              "      filter: drop-shadow(0px 1px 2px rgba(0, 0, 0, 0.3));\n",
              "      fill: #FFFFFF;\n",
              "    }\n",
              "  </style>\n",
              "\n",
              "      <script>\n",
              "        const buttonEl =\n",
              "          document.querySelector('#df-d8ac074c-66b4-45dd-893b-2aba276ad739 button.colab-df-convert');\n",
              "        buttonEl.style.display =\n",
              "          google.colab.kernel.accessAllowed ? 'block' : 'none';\n",
              "\n",
              "        async function convertToInteractive(key) {\n",
              "          const element = document.querySelector('#df-d8ac074c-66b4-45dd-893b-2aba276ad739');\n",
              "          const dataTable =\n",
              "            await google.colab.kernel.invokeFunction('convertToInteractive',\n",
              "                                                     [key], {});\n",
              "          if (!dataTable) return;\n",
              "\n",
              "          const docLinkHtml = 'Like what you see? Visit the ' +\n",
              "            '<a target=\"_blank\" href=https://colab.research.google.com/notebooks/data_table.ipynb>data table notebook</a>'\n",
              "            + ' to learn more about interactive tables.';\n",
              "          element.innerHTML = '';\n",
              "          dataTable['output_type'] = 'display_data';\n",
              "          await google.colab.output.renderOutput(dataTable, element);\n",
              "          const docLink = document.createElement('div');\n",
              "          docLink.innerHTML = docLinkHtml;\n",
              "          element.appendChild(docLink);\n",
              "        }\n",
              "      </script>\n",
              "    </div>\n",
              "  </div>\n",
              "  "
            ]
          },
          "metadata": {},
          "execution_count": 71
        }
      ]
    },
    {
      "cell_type": "code",
      "source": [
        "df1.isnull().sum()"
      ],
      "metadata": {
        "colab": {
          "base_uri": "https://localhost:8080/"
        },
        "id": "M7QYHgY0ZCgj",
        "outputId": "0c11aa9f-9a25-48fd-e6c6-433b9407ce4c"
      },
      "execution_count": 72,
      "outputs": [
        {
          "output_type": "execute_result",
          "data": {
            "text/plain": [
              "ID                              0\n",
              "Loan Amount                     0\n",
              "Funded Amount                   0\n",
              "Funded Amount Investor          0\n",
              "Term                            0\n",
              "Batch Enrolled                  0\n",
              "Interest Rate                   0\n",
              "Grade                           0\n",
              "Sub Grade                       0\n",
              "Employment Duration             0\n",
              "Home Ownership                  0\n",
              "Verification Status             0\n",
              "Payment Plan                    0\n",
              "Loan Title                      0\n",
              "Debit to Income                 0\n",
              "Delinquency - two years         0\n",
              "Inquires - six months           0\n",
              "Open Account                    0\n",
              "Public Record                   0\n",
              "Revolving Balance               0\n",
              "Revolving Utilities             0\n",
              "Total Accounts                  0\n",
              "Initial List Status             0\n",
              "Total Received Interest         0\n",
              "Total Received Late Fee         0\n",
              "Recoveries                      0\n",
              "Collection Recovery Fee         0\n",
              "Collection 12 months Medical    0\n",
              "Application Type                0\n",
              "Last week Pay                   0\n",
              "Accounts Delinquent             0\n",
              "Total Collection Amount         0\n",
              "Total Current Balance           0\n",
              "Total Revolving Credit Limit    0\n",
              "Loan Status                     0\n",
              "dtype: int64"
            ]
          },
          "metadata": {},
          "execution_count": 72
        }
      ]
    },
    {
      "cell_type": "code",
      "source": [
        "df2.isnull().sum()"
      ],
      "metadata": {
        "colab": {
          "base_uri": "https://localhost:8080/"
        },
        "id": "DIoLUFtrZIcG",
        "outputId": "7b82aeea-6ccc-4398-9b34-cc059afc87af"
      },
      "execution_count": 73,
      "outputs": [
        {
          "output_type": "execute_result",
          "data": {
            "text/plain": [
              "ID                              0\n",
              "Loan Amount                     0\n",
              "Funded Amount                   0\n",
              "Funded Amount Investor          0\n",
              "Term                            0\n",
              "Batch Enrolled                  0\n",
              "Interest Rate                   0\n",
              "Grade                           0\n",
              "Sub Grade                       0\n",
              "Employment Duration             0\n",
              "Home Ownership                  0\n",
              "Verification Status             0\n",
              "Payment Plan                    0\n",
              "Loan Title                      0\n",
              "Debit to Income                 0\n",
              "Delinquency - two years         0\n",
              "Inquires - six months           0\n",
              "Open Account                    0\n",
              "Public Record                   0\n",
              "Revolving Balance               0\n",
              "Revolving Utilities             0\n",
              "Total Accounts                  0\n",
              "Initial List Status             0\n",
              "Total Received Interest         0\n",
              "Total Received Late Fee         0\n",
              "Recoveries                      0\n",
              "Collection Recovery Fee         0\n",
              "Collection 12 months Medical    0\n",
              "Application Type                0\n",
              "Last week Pay                   0\n",
              "Accounts Delinquent             0\n",
              "Total Collection Amount         0\n",
              "Total Current Balance           0\n",
              "Total Revolving Credit Limit    0\n",
              "dtype: int64"
            ]
          },
          "metadata": {},
          "execution_count": 73
        }
      ]
    },
    {
      "cell_type": "code",
      "source": [
        "df1.dtypes"
      ],
      "metadata": {
        "colab": {
          "base_uri": "https://localhost:8080/"
        },
        "id": "jEyvYFOJZOnH",
        "outputId": "59601bc7-0bbc-4b60-b523-fa4d179505c5"
      },
      "execution_count": 74,
      "outputs": [
        {
          "output_type": "execute_result",
          "data": {
            "text/plain": [
              "ID                                int64\n",
              "Loan Amount                       int64\n",
              "Funded Amount                     int64\n",
              "Funded Amount Investor          float64\n",
              "Term                              int64\n",
              "Batch Enrolled                   object\n",
              "Interest Rate                   float64\n",
              "Grade                            object\n",
              "Sub Grade                        object\n",
              "Employment Duration              object\n",
              "Home Ownership                  float64\n",
              "Verification Status              object\n",
              "Payment Plan                     object\n",
              "Loan Title                       object\n",
              "Debit to Income                 float64\n",
              "Delinquency - two years           int64\n",
              "Inquires - six months             int64\n",
              "Open Account                      int64\n",
              "Public Record                     int64\n",
              "Revolving Balance                 int64\n",
              "Revolving Utilities             float64\n",
              "Total Accounts                    int64\n",
              "Initial List Status              object\n",
              "Total Received Interest         float64\n",
              "Total Received Late Fee         float64\n",
              "Recoveries                      float64\n",
              "Collection Recovery Fee         float64\n",
              "Collection 12 months Medical      int64\n",
              "Application Type                 object\n",
              "Last week Pay                     int64\n",
              "Accounts Delinquent               int64\n",
              "Total Collection Amount           int64\n",
              "Total Current Balance             int64\n",
              "Total Revolving Credit Limit      int64\n",
              "Loan Status                       int64\n",
              "dtype: object"
            ]
          },
          "metadata": {},
          "execution_count": 74
        }
      ]
    },
    {
      "cell_type": "markdown",
      "source": [
        "**Target** **Variable**"
      ],
      "metadata": {
        "id": "SRUw56-SZasI"
      }
    },
    {
      "cell_type": "code",
      "source": [
        "df1[\"Loan Status\"].count()"
      ],
      "metadata": {
        "colab": {
          "base_uri": "https://localhost:8080/"
        },
        "id": "BkQDFKjBKcIN",
        "outputId": "21e9de46-153a-472f-9655-499274ead64f"
      },
      "execution_count": 75,
      "outputs": [
        {
          "output_type": "execute_result",
          "data": {
            "text/plain": [
              "67463"
            ]
          },
          "metadata": {},
          "execution_count": 75
        }
      ]
    },
    {
      "cell_type": "code",
      "source": [
        "df1[\"Loan Status\"].value_counts()"
      ],
      "metadata": {
        "colab": {
          "base_uri": "https://localhost:8080/"
        },
        "id": "qaiJsfGiK9Ji",
        "outputId": "3a8b3e30-46a7-4dc3-994a-ae2f0973ec81"
      },
      "execution_count": 76,
      "outputs": [
        {
          "output_type": "execute_result",
          "data": {
            "text/plain": [
              "0    61222\n",
              "1     6241\n",
              "Name: Loan Status, dtype: int64"
            ]
          },
          "metadata": {},
          "execution_count": 76
        }
      ]
    },
    {
      "cell_type": "code",
      "source": [
        "import matplotlib.pyplot as plt\n",
        "import seaborn as sns\n",
        "\n",
        "# Bar chart of loan status counts\n",
        "plt.figure(figsize=(8,6))\n",
        "df1['Loan Status'].value_counts().plot(kind='bar')\n",
        "plt.title('Loan Status Counts')\n",
        "plt.xlabel('Loan Status')\n",
        "plt.ylabel('Count')\n",
        "plt.show()"
      ],
      "metadata": {
        "id": "l3_tUoZiMacR",
        "colab": {
          "base_uri": "https://localhost:8080/",
          "height": 400
        },
        "outputId": "73109db6-43b3-4e35-ab9e-6278f184acc3"
      },
      "execution_count": 77,
      "outputs": [
        {
          "output_type": "display_data",
          "data": {
            "text/plain": [
              "<Figure size 576x432 with 1 Axes>"
            ],
            "image/png": "[encoded data removed]"
          },
          "metadata": {
            "needs_background": "light"
          }
        }
      ]
    },
    {
      "cell_type": "code",
      "source": [
        "df1[\"Term\"].value_counts()"
      ],
      "metadata": {
        "colab": {
          "base_uri": "https://localhost:8080/"
        },
        "id": "HzTZGNuMff56",
        "outputId": "48997370-4e12-492c-c424-bca4ed0c0fca"
      },
      "execution_count": 78,
      "outputs": [
        {
          "output_type": "execute_result",
          "data": {
            "text/plain": [
              "59    43780\n",
              "58    22226\n",
              "36     1457\n",
              "Name: Term, dtype: int64"
            ]
          },
          "metadata": {},
          "execution_count": 78
        }
      ]
    },
    {
      "cell_type": "code",
      "source": [
        "plt.figure(figsize=(8,6))\n",
        "df1['Term'].value_counts().plot(kind='bar', title='Loan Term Distribution', xlabel='Term', ylabel='Count')"
      ],
      "metadata": {
        "colab": {
          "base_uri": "https://localhost:8080/",
          "height": 424
        },
        "id": "n6IDzO9sak5F",
        "outputId": "9cc56292-0f5b-4dc4-ed1c-2980ec7064dc"
      },
      "execution_count": 79,
      "outputs": [
        {
          "output_type": "execute_result",
          "data": {
            "text/plain": [
              "<Axes: title={'center': 'Loan Term Distribution'}, xlabel='Term', ylabel='Count'>"
            ]
          },
          "metadata": {},
          "execution_count": 79
        },
        {
          "output_type": "display_data",
          "data": {
            "text/plain": [
              "<Figure size 576x432 with 1 Axes>"
            ],
            "image/png": "[encoded data removed]"
          },
          "metadata": {
            "needs_background": "light"
          }
        }
      ]
    },
    {
      "cell_type": "code",
      "source": [
        "df1[\"Verification Status\"].value_counts()"
      ],
      "metadata": {
        "colab": {
          "base_uri": "https://localhost:8080/"
        },
        "id": "_5u0aD4btiaW",
        "outputId": "4596ee7a-b303-4b9b-8d03-de3511011349"
      },
      "execution_count": 80,
      "outputs": [
        {
          "output_type": "execute_result",
          "data": {
            "text/plain": [
              "Source Verified    33036\n",
              "Verified           18078\n",
              "Not Verified       16349\n",
              "Name: Verification Status, dtype: int64"
            ]
          },
          "metadata": {},
          "execution_count": 80
        }
      ]
    },
    {
      "cell_type": "code",
      "source": [
        "plt.figure(figsize=(8,6))\n",
        "df1['Verification Status'].value_counts().plot(kind='bar', title='Verification Status', ylabel='Count')"
      ],
      "metadata": {
        "colab": {
          "base_uri": "https://localhost:8080/",
          "height": 473
        },
        "id": "VLqRFyi8tn-b",
        "outputId": "97bc2a1b-2bff-4424-dc93-1e7f717c8a9c"
      },
      "execution_count": 81,
      "outputs": [
        {
          "output_type": "execute_result",
          "data": {
            "text/plain": [
              "<Axes: title={'center': 'Verification Status'}, ylabel='Count'>"
            ]
          },
          "metadata": {},
          "execution_count": 81
        },
        {
          "output_type": "display_data",
          "data": {
            "text/plain": [
              "<Figure size 576x432 with 1 Axes>"
            ],
            "image/png": "[encoded data removed]"
          },
          "metadata": {
            "needs_background": "light"
          }
        }
      ]
    },
    {
      "cell_type": "code",
      "source": [
        "df1[\"Delinquency - two years\"].value_counts()"
      ],
      "metadata": {
        "colab": {
          "base_uri": "https://localhost:8080/"
        },
        "id": "J3EBgpzsfCEm",
        "outputId": "a494f2ac-f5d7-4334-b527-0ad036d55a4a"
      },
      "execution_count": 82,
      "outputs": [
        {
          "output_type": "execute_result",
          "data": {
            "text/plain": [
              "0    52054\n",
              "1    11736\n",
              "2     2651\n",
              "3      445\n",
              "7      252\n",
              "6      191\n",
              "5       74\n",
              "8       44\n",
              "4       16\n",
              "Name: Delinquency - two years, dtype: int64"
            ]
          },
          "metadata": {},
          "execution_count": 82
        }
      ]
    },
    {
      "cell_type": "code",
      "source": [
        "plt.figure(figsize=(8,6))\n",
        "df1['Delinquency - two years'].value_counts().plot(kind='bar', title='Delinquency - two years', ylabel='Count')"
      ],
      "metadata": {
        "colab": {
          "base_uri": "https://localhost:8080/",
          "height": 403
        },
        "id": "0-KVgQZfe410",
        "outputId": "c169c62b-26b6-42ae-b584-5eadf47323b0"
      },
      "execution_count": 83,
      "outputs": [
        {
          "output_type": "execute_result",
          "data": {
            "text/plain": [
              "<Axes: title={'center': 'Delinquency - two years'}, ylabel='Count'>"
            ]
          },
          "metadata": {},
          "execution_count": 83
        },
        {
          "output_type": "display_data",
          "data": {
            "text/plain": [
              "<Figure size 576x432 with 1 Axes>"
            ],
            "image/png": "[encoded data removed]"
          },
          "metadata": {
            "needs_background": "light"
          }
        }
      ]
    },
    {
      "cell_type": "code",
      "source": [
        "df1[\"Sub Grade\"].value_counts()"
      ],
      "metadata": {
        "colab": {
          "base_uri": "https://localhost:8080/"
        },
        "id": "8HsZatljeAuY",
        "outputId": "0c28b6d5-1190-4f5e-fb1b-0e7fd5d9c89e"
      },
      "execution_count": 84,
      "outputs": [
        {
          "output_type": "execute_result",
          "data": {
            "text/plain": [
              "B4    4462\n",
              "C1    4188\n",
              "B3    3999\n",
              "A5    3540\n",
              "B2    3520\n",
              "B5    3408\n",
              "D1    3304\n",
              "C4    3250\n",
              "C2    3219\n",
              "C3    3121\n",
              "B1    2924\n",
              "C5    2472\n",
              "A4    2264\n",
              "D4    2050\n",
              "D2    1963\n",
              "D5    1952\n",
              "A2    1837\n",
              "D3    1824\n",
              "E2    1746\n",
              "A3    1685\n",
              "A1    1364\n",
              "E3    1321\n",
              "E1    1298\n",
              "E4    1117\n",
              "F2     947\n",
              "F1     824\n",
              "E5     769\n",
              "F5     582\n",
              "F3     578\n",
              "G2     447\n",
              "F4     441\n",
              "G1     366\n",
              "G5     284\n",
              "G3     246\n",
              "G4     151\n",
              "Name: Sub Grade, dtype: int64"
            ]
          },
          "metadata": {},
          "execution_count": 84
        }
      ]
    },
    {
      "cell_type": "code",
      "source": [
        "plt.figure(figsize=(8,6))\n",
        "df1['Sub Grade'].value_counts().plot(kind='bar', title='Loan Sub Grade', ylabel='Count')"
      ],
      "metadata": {
        "colab": {
          "base_uri": "https://localhost:8080/",
          "height": 411
        },
        "id": "IKZQO1DqaktG",
        "outputId": "a37a3902-bdd1-45f4-bfdf-c168c544cb6f"
      },
      "execution_count": 85,
      "outputs": [
        {
          "output_type": "execute_result",
          "data": {
            "text/plain": [
              "<Axes: title={'center': 'Loan Sub Grade'}, ylabel='Count'>"
            ]
          },
          "metadata": {},
          "execution_count": 85
        },
        {
          "output_type": "display_data",
          "data": {
            "text/plain": [
              "<Figure size 576x432 with 1 Axes>"
            ],
            "image/png": "[encoded data removed]"
          },
          "metadata": {
            "needs_background": "light"
          }
        }
      ]
    },
    {
      "cell_type": "code",
      "source": [
        "df1[\"Grade\"].value_counts()"
      ],
      "metadata": {
        "colab": {
          "base_uri": "https://localhost:8080/"
        },
        "id": "y5jZzxL2ehBn",
        "outputId": "ab0386d9-fb9c-4ace-861c-f1e0b9518660"
      },
      "execution_count": 86,
      "outputs": [
        {
          "output_type": "execute_result",
          "data": {
            "text/plain": [
              "C    19085\n",
              "B    18742\n",
              "A    12055\n",
              "D     8259\n",
              "E     6446\n",
              "F     2246\n",
              "G      630\n",
              "Name: Grade, dtype: int64"
            ]
          },
          "metadata": {},
          "execution_count": 86
        }
      ]
    },
    {
      "cell_type": "code",
      "source": [
        "plt.figure(figsize=(8,6))\n",
        "df1['Grade'].value_counts().plot(kind='bar', title='Loan Grade', ylabel='Count')"
      ],
      "metadata": {
        "colab": {
          "base_uri": "https://localhost:8080/",
          "height": 405
        },
        "id": "zI3_y229akhq",
        "outputId": "7c0754d2-9bf6-478f-cc43-d4eb0ce01851"
      },
      "execution_count": 87,
      "outputs": [
        {
          "output_type": "execute_result",
          "data": {
            "text/plain": [
              "<Axes: title={'center': 'Loan Grade'}, ylabel='Count'>"
            ]
          },
          "metadata": {},
          "execution_count": 87
        },
        {
          "output_type": "display_data",
          "data": {
            "text/plain": [
              "<Figure size 576x432 with 1 Axes>"
            ],
            "image/png": "[encoded data removed]"
          },
          "metadata": {
            "needs_background": "light"
          }
        }
      ]
    },
    {
      "cell_type": "code",
      "source": [
        "df1[\"Employment Duration\"].value_counts()"
      ],
      "metadata": {
        "colab": {
          "base_uri": "https://localhost:8080/"
        },
        "id": "QZ9vGtaDwfXW",
        "outputId": "4afe494f-c060-442a-8284-dc96f7828859"
      },
      "execution_count": 88,
      "outputs": [
        {
          "output_type": "execute_result",
          "data": {
            "text/plain": [
              "MORTGAGE    36351\n",
              "RENT        24150\n",
              "OWN          6962\n",
              "Name: Employment Duration, dtype: int64"
            ]
          },
          "metadata": {},
          "execution_count": 88
        }
      ]
    },
    {
      "cell_type": "code",
      "source": [
        "df1['Employment Duration'].value_counts().plot(kind='bar', title='Employment Duration', ylabel='Count')"
      ],
      "metadata": {
        "colab": {
          "base_uri": "https://localhost:8080/",
          "height": 345
        },
        "id": "WdYtUMeqRUfu",
        "outputId": "3a03a533-5292-4b43-ccd2-21c8f4a432ed"
      },
      "execution_count": 89,
      "outputs": [
        {
          "output_type": "execute_result",
          "data": {
            "text/plain": [
              "<Axes: title={'center': 'Employment Duration'}, ylabel='Count'>"
            ]
          },
          "metadata": {},
          "execution_count": 89
        },
        {
          "output_type": "display_data",
          "data": {
            "text/plain": [
              "<Figure size 432x288 with 1 Axes>"
            ],
            "image/png": "[encoded data removed]"
          },
          "metadata": {
            "needs_background": "light"
          }
        }
      ]
    },
    {
      "cell_type": "code",
      "source": [
        "df1[\"Initial List Status\"].value_counts()"
      ],
      "metadata": {
        "colab": {
          "base_uri": "https://localhost:8080/"
        },
        "id": "Y30jrS7PgMqt",
        "outputId": "3c5d315a-0c55-437e-9961-5cc1f1cbbe84"
      },
      "execution_count": 90,
      "outputs": [
        {
          "output_type": "execute_result",
          "data": {
            "text/plain": [
              "w    36299\n",
              "f    31164\n",
              "Name: Initial List Status, dtype: int64"
            ]
          },
          "metadata": {},
          "execution_count": 90
        }
      ]
    },
    {
      "cell_type": "code",
      "source": [
        "df1['Initial List Status'].value_counts().plot(kind='bar', title='Initial List Status', ylabel='Count')"
      ],
      "metadata": {
        "colab": {
          "base_uri": "https://localhost:8080/",
          "height": 296
        },
        "id": "F1_3dkfggHBd",
        "outputId": "eda14d02-0a7a-4afe-cc19-c5f355113541"
      },
      "execution_count": 91,
      "outputs": [
        {
          "output_type": "execute_result",
          "data": {
            "text/plain": [
              "<Axes: title={'center': 'Initial List Status'}, ylabel='Count'>"
            ]
          },
          "metadata": {},
          "execution_count": 91
        },
        {
          "output_type": "display_data",
          "data": {
            "text/plain": [
              "<Figure size 432x288 with 1 Axes>"
            ],
            "image/png": "[encoded data removed]"
          },
          "metadata": {
            "needs_background": "light"
          }
        }
      ]
    },
    {
      "cell_type": "code",
      "source": [
        "df1[\"Application Type\"].value_counts()"
      ],
      "metadata": {
        "colab": {
          "base_uri": "https://localhost:8080/"
        },
        "id": "-jGDn_H1nCem",
        "outputId": "01b6a687-3aa8-43f3-aa9d-32e09f5d3302"
      },
      "execution_count": 92,
      "outputs": [
        {
          "output_type": "execute_result",
          "data": {
            "text/plain": [
              "INDIVIDUAL    67340\n",
              "JOINT           123\n",
              "Name: Application Type, dtype: int64"
            ]
          },
          "metadata": {},
          "execution_count": 92
        }
      ]
    },
    {
      "cell_type": "code",
      "source": [
        "df1['Application Type'].value_counts().plot(kind='bar', title='Application Type', ylabel='Count')"
      ],
      "metadata": {
        "colab": {
          "base_uri": "https://localhost:8080/",
          "height": 347
        },
        "id": "PgDn7FtVnG-7",
        "outputId": "0009584c-85f6-4451-eb49-baa309f5388b"
      },
      "execution_count": 93,
      "outputs": [
        {
          "output_type": "execute_result",
          "data": {
            "text/plain": [
              "<Axes: title={'center': 'Application Type'}, ylabel='Count'>"
            ]
          },
          "metadata": {},
          "execution_count": 93
        },
        {
          "output_type": "display_data",
          "data": {
            "text/plain": [
              "<Figure size 432x288 with 1 Axes>"
            ],
            "image/png": "[encoded data removed]"
          },
          "metadata": {
            "needs_background": "light"
          }
        }
      ]
    },
    {
      "cell_type": "code",
      "source": [
        "# plot a bar plot of Loan Status by Grade\n",
        "plt.figure(figsize=(8,6))\n",
        "sns.countplot(x='Grade', hue='Loan Status', data=df1)"
      ],
      "metadata": {
        "colab": {
          "base_uri": "https://localhost:8080/",
          "height": 405
        },
        "id": "0N6A6ebzlXe_",
        "outputId": "54248a77-16c3-44bd-8990-d311b470dbc7"
      },
      "execution_count": 94,
      "outputs": [
        {
          "output_type": "execute_result",
          "data": {
            "text/plain": [
              "<Axes: xlabel='Grade', ylabel='count'>"
            ]
          },
          "metadata": {},
          "execution_count": 94
        },
        {
          "output_type": "display_data",
          "data": {
            "text/plain": [
              "<Figure size 576x432 with 1 Axes>"
            ],
            "image/png": "[encoded data removed]"
          },
          "metadata": {
            "needs_background": "light"
          }
        }
      ]
    },
    {
      "cell_type": "code",
      "source": [
        "# plot a bar plot of Loan Status by Sub Grade\n",
        "plt.figure(figsize=(12,8))\n",
        "sns.countplot(x='Sub Grade', hue='Loan Status', data=df1)"
      ],
      "metadata": {
        "colab": {
          "base_uri": "https://localhost:8080/",
          "height": 514
        },
        "id": "uUqno5S5mEug",
        "outputId": "25ebfe4e-4559-4d22-b56b-1399500ffb3f"
      },
      "execution_count": 95,
      "outputs": [
        {
          "output_type": "execute_result",
          "data": {
            "text/plain": [
              "<Axes: xlabel='Sub Grade', ylabel='count'>"
            ]
          },
          "metadata": {},
          "execution_count": 95
        },
        {
          "output_type": "display_data",
          "data": {
            "text/plain": [
              "<Figure size 864x576 with 1 Axes>"
            ],
            "image/png": "[encoded data removed]"
          },
          "metadata": {
            "needs_background": "light"
          }
        }
      ]
    },
    {
      "cell_type": "code",
      "source": [
        "# plot a bar plot of Loan Status by Intial List Status\n",
        "plt.figure(figsize=(8,6))\n",
        "sns.countplot(x='Initial List Status', hue='Loan Status', data=df1)"
      ],
      "metadata": {
        "colab": {
          "base_uri": "https://localhost:8080/",
          "height": 405
        },
        "id": "h9kIZrhomd68",
        "outputId": "07420ae5-f511-4408-be4e-335a0ced4850"
      },
      "execution_count": 96,
      "outputs": [
        {
          "output_type": "execute_result",
          "data": {
            "text/plain": [
              "<Axes: xlabel='Initial List Status', ylabel='count'>"
            ]
          },
          "metadata": {},
          "execution_count": 96
        },
        {
          "output_type": "display_data",
          "data": {
            "text/plain": [
              "<Figure size 576x432 with 1 Axes>"
            ],
            "image/png": "[encoded data removed]"
          },
          "metadata": {
            "needs_background": "light"
          }
        }
      ]
    },
    {
      "cell_type": "code",
      "source": [
        "# plot a bar plot of Loan Status by Applicant Type\n",
        "plt.figure(figsize=(8,6))\n",
        "sns.countplot(x='Application Type', hue='Loan Status', data=df1)"
      ],
      "metadata": {
        "colab": {
          "base_uri": "https://localhost:8080/",
          "height": 405
        },
        "id": "nPI7E_HnmxgP",
        "outputId": "0bdc4e72-1e87-4e17-8bf5-171414b1f4fd"
      },
      "execution_count": 97,
      "outputs": [
        {
          "output_type": "execute_result",
          "data": {
            "text/plain": [
              "<Axes: xlabel='Application Type', ylabel='count'>"
            ]
          },
          "metadata": {},
          "execution_count": 97
        },
        {
          "output_type": "display_data",
          "data": {
            "text/plain": [
              "<Figure size 576x432 with 1 Axes>"
            ],
            "image/png": "[encoded data removed]"
          },
          "metadata": {
            "needs_background": "light"
          }
        }
      ]
    },
    {
      "cell_type": "code",
      "source": [
        "# plot a bar plot of Loan Status by Verification Status\n",
        "plt.figure(figsize=(8,6))\n",
        "sns.countplot(x='Verification Status', hue='Loan Status', data=df1)"
      ],
      "metadata": {
        "colab": {
          "base_uri": "https://localhost:8080/",
          "height": 405
        },
        "id": "48JvnpLzR3Qh",
        "outputId": "fd8c8585-ca06-4be8-a8de-5dd1a20c73b5"
      },
      "execution_count": 98,
      "outputs": [
        {
          "output_type": "execute_result",
          "data": {
            "text/plain": [
              "<Axes: xlabel='Verification Status', ylabel='count'>"
            ]
          },
          "metadata": {},
          "execution_count": 98
        },
        {
          "output_type": "display_data",
          "data": {
            "text/plain": [
              "<Figure size 576x432 with 1 Axes>"
            ],
            "image/png": "[encoded data removed]"
          },
          "metadata": {
            "needs_background": "light"
          }
        }
      ]
    },
    {
      "cell_type": "code",
      "source": [
        "num_cols = ['ID','Loan Amount','Funded Amount','Funded Amount Investor','Term','Interest Rate','Home Ownership','Debit to Income','Delinquency - two years','Inquires - six months','Open Account','Public Record','Revolving Balance','Revolving Utilities','Total Accounts','Total Received Interest','Total Received Late Fee','Recoveries','Collection Recovery Fee','Collection 12 months Medical','Last week Pay','Accounts Delinquent','Total Collection Amount','Total Current Balance','Total Revolving Credit Limit','Loan Status']\n",
        "for i in num_cols:\n",
        "  plt.boxplot(df1[i])\n",
        "  plt.title(i)\n",
        "  plt.show()"
      ],
      "metadata": {
        "colab": {
          "base_uri": "https://localhost:8080/",
          "height": 1000
        },
        "id": "OuIBlrgIFmHT",
        "outputId": "b9f7802f-a874-41e8-f63d-dc33aa34bcc7"
      },
      "execution_count": 99,
      "outputs": [
        {
          "output_type": "display_data",
          "data": {
            "text/plain": [
              "<Figure size 432x288 with 1 Axes>"
            ],
            "image/png": "[encoded data removed]"
          },
          "metadata": {
            "needs_background": "light"
          }
        },
        {
          "output_type": "display_data",
          "data": {
            "text/plain": [
              "<Figure size 432x288 with 1 Axes>"
            ],
            "image/png": "[encoded data removed]"
          },
          "metadata": {
            "needs_background": "light"
          }
        },
        {
          "output_type": "display_data",
          "data": {
            "text/plain": [
              "<Figure size 432x288 with 1 Axes>"
            ],
            "image/png": "[encoded data removed]"
          },
          "metadata": {
            "needs_background": "light"
          }
        },
        {
          "output_type": "display_data",
          "data": {
            "text/plain": [
              "<Figure size 432x288 with 1 Axes>"
            ],
            "image/png": "[encoded data removed]"
          },
          "metadata": {
            "needs_background": "light"
          }
        },
        {
          "output_type": "display_data",
          "data": {
            "text/plain": [
              "<Figure size 432x288 with 1 Axes>"
            ],
            "image/png": "[encoded data removed]"
          },
          "metadata": {
            "needs_background": "light"
          }
        },
        {
          "output_type": "display_data",
          "data": {
            "text/plain": [
              "<Figure size 432x288 with 1 Axes>"
            ],
            "image/png": "[encoded data removed]"
          },
          "metadata": {
            "needs_background": "light"
          }
        },
        {
          "output_type": "display_data",
          "data": {
            "text/plain": [
              "<Figure size 432x288 with 1 Axes>"
            ],
            "image/png": "[encoded data removed]"
          },
          "metadata": {
            "needs_background": "light"
          }
        },
        {
          "output_type": "display_data",
          "data": {
            "text/plain": [
              "<Figure size 432x288 with 1 Axes>"
            ],
            "image/png": "[encoded data removed]"
          },
          "metadata": {
            "needs_background": "light"
          }
        },
        {
          "output_type": "display_data",
          "data": {
            "text/plain": [
              "<Figure size 432x288 with 1 Axes>"
            ],
            "image/png": "[encoded data removed]"
          },
          "metadata": {
            "needs_background": "light"
          }
        },
        {
          "output_type": "display_data",
          "data": {
            "text/plain": [
              "<Figure size 432x288 with 1 Axes>"
            ],
            "image/png": "[encoded data removed]"
          },
          "metadata": {
            "needs_background": "light"
          }
        },
        {
          "output_type": "display_data",
          "data": {
            "text/plain": [
              "<Figure size 432x288 with 1 Axes>"
            ],
            "image/png": "[encoded data removed]"
          },
          "metadata": {
            "needs_background": "light"
          }
        },
        {
          "output_type": "display_data",
          "data": {
            "text/plain": [
              "<Figure size 432x288 with 1 Axes>"
            ],
            "image/png": "[encoded data removed]"
          },
          "metadata": {
            "needs_background": "light"
          }
        },
        {
          "output_type": "display_data",
          "data": {
            "text/plain": [
              "<Figure size 432x288 with 1 Axes>"
            ],
            "image/png": "[encoded data removed]"
          },
          "metadata": {
            "needs_background": "light"
          }
        },
        {
          "output_type": "display_data",
          "data": {
            "text/plain": [
              "<Figure size 432x288 with 1 Axes>"
            ],
            "image/png": "[encoded data removed]"
          },
          "metadata": {
            "needs_background": "light"
          }
        },
        {
          "output_type": "display_data",
          "data": {
            "text/plain": [
              "<Figure size 432x288 with 1 Axes>"
            ],
            "image/png": "[encoded data removed]"
          },
          "metadata": {
            "needs_background": "light"
          }
        },
        {
          "output_type": "display_data",
          "data": {
            "text/plain": [
              "<Figure size 432x288 with 1 Axes>"
            ],
            "image/png": "[encoded data removed]"
          },
          "metadata": {
            "needs_background": "light"
          }
        },
        {
          "output_type": "display_data",
          "data": {
            "text/plain": [
              "<Figure size 432x288 with 1 Axes>"
            ],
            "image/png": "[encoded data removed]"
          },
          "metadata": {
            "needs_background": "light"
          }
        },
        {
          "output_type": "display_data",
          "data": {
            "text/plain": [
              "<Figure size 432x288 with 1 Axes>"
            ],
            "image/png": "[encoded data removed]"
          },
          "metadata": {
            "needs_background": "light"
          }
        },
        {
          "output_type": "display_data",
          "data": {
            "text/plain": [
              "<Figure size 432x288 with 1 Axes>"
            ],
            "image/png": "[encoded data removed]"
          },
          "metadata": {
            "needs_background": "light"
          }
        },
        {
          "output_type": "display_data",
          "data": {
            "text/plain": [
              "<Figure size 432x288 with 1 Axes>"
            ],
            "image/png": "[encoded data removed]"
          },
          "metadata": {
            "needs_background": "light"
          }
        },
        {
          "output_type": "display_data",
          "data": {
            "text/plain": [
              "<Figure size 432x288 with 1 Axes>"
            ],
            "image/png": "[encoded data removed]"
          },
          "metadata": {
            "needs_background": "light"
          }
        },
        {
          "output_type": "display_data",
          "data": {
            "text/plain": [
              "<Figure size 432x288 with 1 Axes>"
            ],
            "image/png": "[encoded data removed]"
          },
          "metadata": {
            "needs_background": "light"
          }
        },
        {
          "output_type": "display_data",
          "data": {
            "text/plain": [
              "<Figure size 432x288 with 1 Axes>"
            ],
            "image/png": "[encoded data removed]"
          },
          "metadata": {
            "needs_background": "light"
          }
        },
        {
          "output_type": "display_data",
          "data": {
            "text/plain": [
              "<Figure size 432x288 with 1 Axes>"
            ],
            "image/png": "[encoded data removed]"
          },
          "metadata": {
            "needs_background": "light"
          }
        },
        {
          "output_type": "display_data",
          "data": {
            "text/plain": [
              "<Figure size 432x288 with 1 Axes>"
            ],
            "image/png": "[encoded data removed]"
          },
          "metadata": {
            "needs_background": "light"
          }
        },
        {
          "output_type": "display_data",
          "data": {
            "text/plain": [
              "<Figure size 432x288 with 1 Axes>"
            ],
            "image/png": "[encoded data removed]"
          },
          "metadata": {
            "needs_background": "light"
          }
        }
      ]
    },
    {
      "cell_type": "code",
      "source": [
        "# Correlation matrix heatmap\n",
        "corr_matrix = df1.corr()\n",
        "plt.figure(figsize=(20,20))\n",
        "sns.heatmap(corr_matrix, annot=True, cmap='gist_earth')\n",
        "plt.title('Correlation Matrix Heatmap')\n",
        "plt.show()"
      ],
      "metadata": {
        "colab": {
          "base_uri": "https://localhost:8080/",
          "height": 1000
        },
        "id": "1zspfrbk5pL-",
        "outputId": "1e84d998-6026-4caa-c028-942e8422fdb0"
      },
      "execution_count": 100,
      "outputs": [
        {
          "output_type": "display_data",
          "data": {
            "text/plain": [
              "<Figure size 1440x1440 with 2 Axes>"
            ],
            "image/png": "[encoded data removed]"
          },
          "metadata": {
            "needs_background": "light"
          }
        }
      ]
    },
    {
      "cell_type": "markdown",
      "source": [
        "**Understanding** **the** **datatype** **of** **each** **feature**"
      ],
      "metadata": {
        "id": "qiypzP4p0Obt"
      }
    },
    {
      "cell_type": "code",
      "source": [
        "df1.dtypes"
      ],
      "metadata": {
        "colab": {
          "base_uri": "https://localhost:8080/"
        },
        "id": "fNDVrXYvUmDR",
        "outputId": "16f6c9f7-7bd2-44d4-c63b-91b2ba044d5a"
      },
      "execution_count": 101,
      "outputs": [
        {
          "output_type": "execute_result",
          "data": {
            "text/plain": [
              "ID                                int64\n",
              "Loan Amount                       int64\n",
              "Funded Amount                     int64\n",
              "Funded Amount Investor          float64\n",
              "Term                              int64\n",
              "Batch Enrolled                   object\n",
              "Interest Rate                   float64\n",
              "Grade                            object\n",
              "Sub Grade                        object\n",
              "Employment Duration              object\n",
              "Home Ownership                  float64\n",
              "Verification Status              object\n",
              "Payment Plan                     object\n",
              "Loan Title                       object\n",
              "Debit to Income                 float64\n",
              "Delinquency - two years           int64\n",
              "Inquires - six months             int64\n",
              "Open Account                      int64\n",
              "Public Record                     int64\n",
              "Revolving Balance                 int64\n",
              "Revolving Utilities             float64\n",
              "Total Accounts                    int64\n",
              "Initial List Status              object\n",
              "Total Received Interest         float64\n",
              "Total Received Late Fee         float64\n",
              "Recoveries                      float64\n",
              "Collection Recovery Fee         float64\n",
              "Collection 12 months Medical      int64\n",
              "Application Type                 object\n",
              "Last week Pay                     int64\n",
              "Accounts Delinquent               int64\n",
              "Total Collection Amount           int64\n",
              "Total Current Balance             int64\n",
              "Total Revolving Credit Limit      int64\n",
              "Loan Status                       int64\n",
              "dtype: object"
            ]
          },
          "metadata": {},
          "execution_count": 101
        }
      ]
    },
    {
      "cell_type": "code",
      "source": [
        "categorical_list=('Batch Enrolled', 'Grade', 'Sub Grade', 'Employment Duration', 'Verification Status', 'Payment Plan', 'Loan Title', 'Initial List Status', 'Application Type')"
      ],
      "metadata": {
        "id": "RMsr5x1pUl_x"
      },
      "execution_count": 102,
      "outputs": []
    },
    {
      "cell_type": "code",
      "source": [
        "for i in categorical_list:\n",
        "  df1[i]=df1[i].astype('category').cat.codes"
      ],
      "metadata": {
        "id": "ZXBV0bB_Ul8z"
      },
      "execution_count": 103,
      "outputs": []
    },
    {
      "cell_type": "code",
      "source": [
        "df1.dtypes"
      ],
      "metadata": {
        "colab": {
          "base_uri": "https://localhost:8080/"
        },
        "id": "nUGgu0t7Ul51",
        "outputId": "be6e811a-5437-4768-96fe-15bd0c06afdd"
      },
      "execution_count": 104,
      "outputs": [
        {
          "output_type": "execute_result",
          "data": {
            "text/plain": [
              "ID                                int64\n",
              "Loan Amount                       int64\n",
              "Funded Amount                     int64\n",
              "Funded Amount Investor          float64\n",
              "Term                              int64\n",
              "Batch Enrolled                     int8\n",
              "Interest Rate                   float64\n",
              "Grade                              int8\n",
              "Sub Grade                          int8\n",
              "Employment Duration                int8\n",
              "Home Ownership                  float64\n",
              "Verification Status                int8\n",
              "Payment Plan                       int8\n",
              "Loan Title                         int8\n",
              "Debit to Income                 float64\n",
              "Delinquency - two years           int64\n",
              "Inquires - six months             int64\n",
              "Open Account                      int64\n",
              "Public Record                     int64\n",
              "Revolving Balance                 int64\n",
              "Revolving Utilities             float64\n",
              "Total Accounts                    int64\n",
              "Initial List Status                int8\n",
              "Total Received Interest         float64\n",
              "Total Received Late Fee         float64\n",
              "Recoveries                      float64\n",
              "Collection Recovery Fee         float64\n",
              "Collection 12 months Medical      int64\n",
              "Application Type                   int8\n",
              "Last week Pay                     int64\n",
              "Accounts Delinquent               int64\n",
              "Total Collection Amount           int64\n",
              "Total Current Balance             int64\n",
              "Total Revolving Credit Limit      int64\n",
              "Loan Status                       int64\n",
              "dtype: object"
            ]
          },
          "metadata": {},
          "execution_count": 104
        }
      ]
    },
    {
      "cell_type": "code",
      "source": [
        "for i in categorical_list:\n",
        "  df2[i]=df2[i].astype('category').cat.codes"
      ],
      "metadata": {
        "id": "gU7dT1H1Ul1l"
      },
      "execution_count": 105,
      "outputs": []
    },
    {
      "cell_type": "code",
      "source": [
        "df2.dtypes"
      ],
      "metadata": {
        "colab": {
          "base_uri": "https://localhost:8080/"
        },
        "id": "Dn6vjDPoTAt1",
        "outputId": "39bd77d3-f7e2-4d7e-bb76-1e89307d68c4"
      },
      "execution_count": 106,
      "outputs": [
        {
          "output_type": "execute_result",
          "data": {
            "text/plain": [
              "ID                                int64\n",
              "Loan Amount                       int64\n",
              "Funded Amount                     int64\n",
              "Funded Amount Investor          float64\n",
              "Term                              int64\n",
              "Batch Enrolled                     int8\n",
              "Interest Rate                   float64\n",
              "Grade                              int8\n",
              "Sub Grade                          int8\n",
              "Employment Duration                int8\n",
              "Home Ownership                  float64\n",
              "Verification Status                int8\n",
              "Payment Plan                       int8\n",
              "Loan Title                         int8\n",
              "Debit to Income                 float64\n",
              "Delinquency - two years           int64\n",
              "Inquires - six months             int64\n",
              "Open Account                      int64\n",
              "Public Record                     int64\n",
              "Revolving Balance                 int64\n",
              "Revolving Utilities             float64\n",
              "Total Accounts                    int64\n",
              "Initial List Status                int8\n",
              "Total Received Interest         float64\n",
              "Total Received Late Fee         float64\n",
              "Recoveries                      float64\n",
              "Collection Recovery Fee         float64\n",
              "Collection 12 months Medical      int64\n",
              "Application Type                   int8\n",
              "Last week Pay                     int64\n",
              "Accounts Delinquent               int64\n",
              "Total Collection Amount           int64\n",
              "Total Current Balance             int64\n",
              "Total Revolving Credit Limit      int64\n",
              "dtype: object"
            ]
          },
          "metadata": {},
          "execution_count": 106
        }
      ]
    },
    {
      "cell_type": "code",
      "source": [
        "df1[\"Accounts Delinquent\"].value_counts()"
      ],
      "metadata": {
        "colab": {
          "base_uri": "https://localhost:8080/"
        },
        "id": "JfU2_hSeH7qI",
        "outputId": "4b2fa591-b8a3-421d-b39e-4b335dbdd2de"
      },
      "execution_count": 107,
      "outputs": [
        {
          "output_type": "execute_result",
          "data": {
            "text/plain": [
              "0    67463\n",
              "Name: Accounts Delinquent, dtype: int64"
            ]
          },
          "metadata": {},
          "execution_count": 107
        }
      ]
    },
    {
      "cell_type": "code",
      "source": [
        "df1 = df1.drop(['Accounts Delinquent'],axis=1)"
      ],
      "metadata": {
        "id": "sLpDKHfdTArM"
      },
      "execution_count": 108,
      "outputs": []
    },
    {
      "cell_type": "code",
      "source": [
        "df1[\"Payment Plan\"].value_counts()"
      ],
      "metadata": {
        "colab": {
          "base_uri": "https://localhost:8080/"
        },
        "id": "SnkfYJQUTAoW",
        "outputId": "c1c7c2e3-8f4f-4d36-9194-f61db906acce"
      },
      "execution_count": 109,
      "outputs": [
        {
          "output_type": "execute_result",
          "data": {
            "text/plain": [
              "0    67463\n",
              "Name: Payment Plan, dtype: int64"
            ]
          },
          "metadata": {},
          "execution_count": 109
        }
      ]
    },
    {
      "cell_type": "code",
      "source": [
        "df1 = df1.drop(['Payment Plan'],axis=1)"
      ],
      "metadata": {
        "id": "mM-NkhG-TAlK"
      },
      "execution_count": 110,
      "outputs": []
    },
    {
      "cell_type": "code",
      "source": [
        "df1 = df1.drop(['ID'],axis=1)"
      ],
      "metadata": {
        "id": "_OZztUj2IgNe"
      },
      "execution_count": 111,
      "outputs": []
    },
    {
      "cell_type": "code",
      "source": [
        "df1.head()"
      ],
      "metadata": {
        "colab": {
          "base_uri": "https://localhost:8080/",
          "height": 322
        },
        "id": "5vJL_1Y5IlEE",
        "outputId": "9a7a6ce3-9ea0-42af-9276-d8ace02dbdbe"
      },
      "execution_count": 112,
      "outputs": [
        {
          "output_type": "execute_result",
          "data": {
            "text/plain": [
              "   Loan Amount  Funded Amount  Funded Amount Investor  Term  Batch Enrolled  \\\n",
              "0        10000          32236             12329.36286    59              16   \n",
              "1         3609          11940             12191.99692    59               4   \n",
              "2        28276           9311             21603.22455    59              11   \n",
              "3        11170           6954             17877.15585    59              15   \n",
              "4        16890          13226             13539.92667    59              32   \n",
              "\n",
              "   Interest Rate  Grade  Sub Grade  Employment Duration  Home Ownership  \\\n",
              "0      11.135007      1         13                    0    176346.62670   \n",
              "1      12.237563      2         17                    2     39833.92100   \n",
              "2      12.545884      5         18                    0     91506.69105   \n",
              "3      16.731201      2         12                    0    108286.57590   \n",
              "4      15.008300      2         18                    0     44234.82545   \n",
              "\n",
              "   Verification Status  Loan Title  Debit to Income  Delinquency - two years  \\\n",
              "0                    0          42        16.284758                        1   \n",
              "1                    1          49        15.412409                        0   \n",
              "2                    1          42        28.137619                        0   \n",
              "3                    1          49        18.043730                        1   \n",
              "4                    1          38        17.209886                        1   \n",
              "\n",
              "   Inquires - six months  Open Account  Public Record  Revolving Balance  \\\n",
              "0                      0            13              0              24246   \n",
              "1                      0            12              0                812   \n",
              "2                      0            14              0               1843   \n",
              "3                      0             7              0              13819   \n",
              "4                      3            13              1               1544   \n",
              "\n",
              "   Revolving Utilities  Total Accounts  Initial List Status  \\\n",
              "0            74.932551               7                    1   \n",
              "1            78.297186              13                    0   \n",
              "2             2.073040              20                    1   \n",
              "3            67.467951              12                    1   \n",
              "4            85.250761              22                    1   \n",
              "\n",
              "   Total Received Interest  Total Received Late Fee   Recoveries  \\\n",
              "0              2929.646315                 0.102055     2.498291   \n",
              "1               772.769385                 0.036181     2.377215   \n",
              "2               863.324396                18.778660     4.316277   \n",
              "3               288.173196                 0.044131     0.107020   \n",
              "4               129.239553                19.306646  1294.818751   \n",
              "\n",
              "   Collection Recovery Fee  Collection 12 months Medical  Application Type  \\\n",
              "0                 0.793724                             0                 0   \n",
              "1                 0.974821                             0                 0   \n",
              "2                 1.020075                             0                 0   \n",
              "3                 0.749971                             0                 0   \n",
              "4                 0.368953                             0                 0   \n",
              "\n",
              "   Last week Pay  Total Collection Amount  Total Current Balance  \\\n",
              "0             49                       31                 311301   \n",
              "1            109                       53                 182610   \n",
              "2             66                       34                  89801   \n",
              "3             39                       40                   9189   \n",
              "4             18                      430                 126029   \n",
              "\n",
              "   Total Revolving Credit Limit  Loan Status  \n",
              "0                          6619            0  \n",
              "1                         20885            0  \n",
              "2                         26155            0  \n",
              "3                         60214            0  \n",
              "4                         22579            0  "
            ],
            "text/html": [
              "\n",
              "  <div id=\"df-4e707f6b-a394-4614-9211-bdbee8baa369\">\n",
              "    <div class=\"colab-df-container\">\n",
              "      <div>\n",
              "<style scoped>\n",
              "    .dataframe tbody tr th:only-of-type {\n",
              "        vertical-align: middle;\n",
              "    }\n",
              "\n",
              "    .dataframe tbody tr th {\n",
              "        vertical-align: top;\n",
              "    }\n",
              "\n",
              "    .dataframe thead th {\n",
              "        text-align: right;\n",
              "    }\n",
              "</style>\n",
              "<table border=\"1\" class=\"dataframe\">\n",
              "  <thead>\n",
              "    <tr style=\"text-align: right;\">\n",
              "      <th></th>\n",
              "      <th>Loan Amount</th>\n",
              "      <th>Funded Amount</th>\n",
              "      <th>Funded Amount Investor</th>\n",
              "      <th>Term</th>\n",
              "      <th>Batch Enrolled</th>\n",
              "      <th>Interest Rate</th>\n",
              "      <th>Grade</th>\n",
              "      <th>Sub Grade</th>\n",
              "      <th>Employment Duration</th>\n",
              "      <th>Home Ownership</th>\n",
              "      <th>Verification Status</th>\n",
              "      <th>Loan Title</th>\n",
              "      <th>Debit to Income</th>\n",
              "      <th>Delinquency - two years</th>\n",
              "      <th>Inquires - six months</th>\n",
              "      <th>Open Account</th>\n",
              "      <th>Public Record</th>\n",
              "      <th>Revolving Balance</th>\n",
              "      <th>Revolving Utilities</th>\n",
              "      <th>Total Accounts</th>\n",
              "      <th>Initial List Status</th>\n",
              "      <th>Total Received Interest</th>\n",
              "      <th>Total Received Late Fee</th>\n",
              "      <th>Recoveries</th>\n",
              "      <th>Collection Recovery Fee</th>\n",
              "      <th>Collection 12 months Medical</th>\n",
              "      <th>Application Type</th>\n",
              "      <th>Last week Pay</th>\n",
              "      <th>Total Collection Amount</th>\n",
              "      <th>Total Current Balance</th>\n",
              "      <th>Total Revolving Credit Limit</th>\n",
              "      <th>Loan Status</th>\n",
              "    </tr>\n",
              "  </thead>\n",
              "  <tbody>\n",
              "    <tr>\n",
              "      <th>0</th>\n",
              "      <td>10000</td>\n",
              "      <td>32236</td>\n",
              "      <td>12329.36286</td>\n",
              "      <td>59</td>\n",
              "      <td>16</td>\n",
              "      <td>11.135007</td>\n",
              "      <td>1</td>\n",
              "      <td>13</td>\n",
              "      <td>0</td>\n",
              "      <td>176346.62670</td>\n",
              "      <td>0</td>\n",
              "      <td>42</td>\n",
              "      <td>16.284758</td>\n",
              "      <td>1</td>\n",
              "      <td>0</td>\n",
              "      <td>13</td>\n",
              "      <td>0</td>\n",
              "      <td>24246</td>\n",
              "      <td>74.932551</td>\n",
              "      <td>7</td>\n",
              "      <td>1</td>\n",
              "      <td>2929.646315</td>\n",
              "      <td>0.102055</td>\n",
              "      <td>2.498291</td>\n",
              "      <td>0.793724</td>\n",
              "      <td>0</td>\n",
              "      <td>0</td>\n",
              "      <td>49</td>\n",
              "      <td>31</td>\n",
              "      <td>311301</td>\n",
              "      <td>6619</td>\n",
              "      <td>0</td>\n",
              "    </tr>\n",
              "    <tr>\n",
              "      <th>1</th>\n",
              "      <td>3609</td>\n",
              "      <td>11940</td>\n",
              "      <td>12191.99692</td>\n",
              "      <td>59</td>\n",
              "      <td>4</td>\n",
              "      <td>12.237563</td>\n",
              "      <td>2</td>\n",
              "      <td>17</td>\n",
              "      <td>2</td>\n",
              "      <td>39833.92100</td>\n",
              "      <td>1</td>\n",
              "      <td>49</td>\n",
              "      <td>15.412409</td>\n",
              "      <td>0</td>\n",
              "      <td>0</td>\n",
              "      <td>12</td>\n",
              "      <td>0</td>\n",
              "      <td>812</td>\n",
              "      <td>78.297186</td>\n",
              "      <td>13</td>\n",
              "      <td>0</td>\n",
              "      <td>772.769385</td>\n",
              "      <td>0.036181</td>\n",
              "      <td>2.377215</td>\n",
              "      <td>0.974821</td>\n",
              "      <td>0</td>\n",
              "      <td>0</td>\n",
              "      <td>109</td>\n",
              "      <td>53</td>\n",
              "      <td>182610</td>\n",
              "      <td>20885</td>\n",
              "      <td>0</td>\n",
              "    </tr>\n",
              "    <tr>\n",
              "      <th>2</th>\n",
              "      <td>28276</td>\n",
              "      <td>9311</td>\n",
              "      <td>21603.22455</td>\n",
              "      <td>59</td>\n",
              "      <td>11</td>\n",
              "      <td>12.545884</td>\n",
              "      <td>5</td>\n",
              "      <td>18</td>\n",
              "      <td>0</td>\n",
              "      <td>91506.69105</td>\n",
              "      <td>1</td>\n",
              "      <td>42</td>\n",
              "      <td>28.137619</td>\n",
              "      <td>0</td>\n",
              "      <td>0</td>\n",
              "      <td>14</td>\n",
              "      <td>0</td>\n",
              "      <td>1843</td>\n",
              "      <td>2.073040</td>\n",
              "      <td>20</td>\n",
              "      <td>1</td>\n",
              "      <td>863.324396</td>\n",
              "      <td>18.778660</td>\n",
              "      <td>4.316277</td>\n",
              "      <td>1.020075</td>\n",
              "      <td>0</td>\n",
              "      <td>0</td>\n",
              "      <td>66</td>\n",
              "      <td>34</td>\n",
              "      <td>89801</td>\n",
              "      <td>26155</td>\n",
              "      <td>0</td>\n",
              "    </tr>\n",
              "    <tr>\n",
              "      <th>3</th>\n",
              "      <td>11170</td>\n",
              "      <td>6954</td>\n",
              "      <td>17877.15585</td>\n",
              "      <td>59</td>\n",
              "      <td>15</td>\n",
              "      <td>16.731201</td>\n",
              "      <td>2</td>\n",
              "      <td>12</td>\n",
              "      <td>0</td>\n",
              "      <td>108286.57590</td>\n",
              "      <td>1</td>\n",
              "      <td>49</td>\n",
              "      <td>18.043730</td>\n",
              "      <td>1</td>\n",
              "      <td>0</td>\n",
              "      <td>7</td>\n",
              "      <td>0</td>\n",
              "      <td>13819</td>\n",
              "      <td>67.467951</td>\n",
              "      <td>12</td>\n",
              "      <td>1</td>\n",
              "      <td>288.173196</td>\n",
              "      <td>0.044131</td>\n",
              "      <td>0.107020</td>\n",
              "      <td>0.749971</td>\n",
              "      <td>0</td>\n",
              "      <td>0</td>\n",
              "      <td>39</td>\n",
              "      <td>40</td>\n",
              "      <td>9189</td>\n",
              "      <td>60214</td>\n",
              "      <td>0</td>\n",
              "    </tr>\n",
              "    <tr>\n",
              "      <th>4</th>\n",
              "      <td>16890</td>\n",
              "      <td>13226</td>\n",
              "      <td>13539.92667</td>\n",
              "      <td>59</td>\n",
              "      <td>32</td>\n",
              "      <td>15.008300</td>\n",
              "      <td>2</td>\n",
              "      <td>18</td>\n",
              "      <td>0</td>\n",
              "      <td>44234.82545</td>\n",
              "      <td>1</td>\n",
              "      <td>38</td>\n",
              "      <td>17.209886</td>\n",
              "      <td>1</td>\n",
              "      <td>3</td>\n",
              "      <td>13</td>\n",
              "      <td>1</td>\n",
              "      <td>1544</td>\n",
              "      <td>85.250761</td>\n",
              "      <td>22</td>\n",
              "      <td>1</td>\n",
              "      <td>129.239553</td>\n",
              "      <td>19.306646</td>\n",
              "      <td>1294.818751</td>\n",
              "      <td>0.368953</td>\n",
              "      <td>0</td>\n",
              "      <td>0</td>\n",
              "      <td>18</td>\n",
              "      <td>430</td>\n",
              "      <td>126029</td>\n",
              "      <td>22579</td>\n",
              "      <td>0</td>\n",
              "    </tr>\n",
              "  </tbody>\n",
              "</table>\n",
              "</div>\n",
              "      <button class=\"colab-df-convert\" onclick=\"convertToInteractive('df-4e707f6b-a394-4614-9211-bdbee8baa369')\"\n",
              "              title=\"Convert this dataframe to an interactive table.\"\n",
              "              style=\"display:none;\">\n",
              "        \n",
              "  <svg xmlns=\"http://www.w3.org/2000/svg\" height=\"24px\"viewBox=\"0 0 24 24\"\n",
              "       width=\"24px\">\n",
              "    <path d=\"M0 0h24v24H0V0z\" fill=\"none\"/>\n",
              "    <path d=\"M18.56 5.44l.94 2.06.94-2.06 2.06-.94-2.06-.94-.94-2.06-.94 2.06-2.06.94zm-11 1L8.5 8.5l.94-2.06 2.06-.94-2.06-.94L8.5 2.5l-.94 2.06-2.06.94zm10 10l.94 2.06.94-2.06 2.06-.94-2.06-.94-.94-2.06-.94 2.06-2.06.94z\"/><path d=\"M17.41 7.96l-1.37-1.37c-.4-.4-.92-.59-1.43-.59-.52 0-1.04.2-1.43.59L10.3 9.45l-7.72 7.72c-.78.78-.78 2.05 0 2.83L4 21.41c.39.39.9.59 1.41.59.51 0 1.02-.2 1.41-.59l7.78-7.78 2.81-2.81c.8-.78.8-2.07 0-2.86zM5.41 20L4 18.59l7.72-7.72 1.47 1.35L5.41 20z\"/>\n",
              "  </svg>\n",
              "      </button>\n",
              "      \n",
              "  <style>\n",
              "    .colab-df-container {\n",
              "      display:flex;\n",
              "      flex-wrap:wrap;\n",
              "      gap: 12px;\n",
              "    }\n",
              "\n",
              "    .colab-df-convert {\n",
              "      background-color: #E8F0FE;\n",
              "      border: none;\n",
              "      border-radius: 50%;\n",
              "      cursor: pointer;\n",
              "      display: none;\n",
              "      fill: #1967D2;\n",
              "      height: 32px;\n",
              "      padding: 0 0 0 0;\n",
              "      width: 32px;\n",
              "    }\n",
              "\n",
              "    .colab-df-convert:hover {\n",
              "      background-color: #E2EBFA;\n",
              "      box-shadow: 0px 1px 2px rgba(60, 64, 67, 0.3), 0px 1px 3px 1px rgba(60, 64, 67, 0.15);\n",
              "      fill: #174EA6;\n",
              "    }\n",
              "\n",
              "    [theme=dark] .colab-df-convert {\n",
              "      background-color: #3B4455;\n",
              "      fill: #D2E3FC;\n",
              "    }\n",
              "\n",
              "    [theme=dark] .colab-df-convert:hover {\n",
              "      background-color: #434B5C;\n",
              "      box-shadow: 0px 1px 3px 1px rgba(0, 0, 0, 0.15);\n",
              "      filter: drop-shadow(0px 1px 2px rgba(0, 0, 0, 0.3));\n",
              "      fill: #FFFFFF;\n",
              "    }\n",
              "  </style>\n",
              "\n",
              "      <script>\n",
              "        const buttonEl =\n",
              "          document.querySelector('#df-4e707f6b-a394-4614-9211-bdbee8baa369 button.colab-df-convert');\n",
              "        buttonEl.style.display =\n",
              "          google.colab.kernel.accessAllowed ? 'block' : 'none';\n",
              "\n",
              "        async function convertToInteractive(key) {\n",
              "          const element = document.querySelector('#df-4e707f6b-a394-4614-9211-bdbee8baa369');\n",
              "          const dataTable =\n",
              "            await google.colab.kernel.invokeFunction('convertToInteractive',\n",
              "                                                     [key], {});\n",
              "          if (!dataTable) return;\n",
              "\n",
              "          const docLinkHtml = 'Like what you see? Visit the ' +\n",
              "            '<a target=\"_blank\" href=https://colab.research.google.com/notebooks/data_table.ipynb>data table notebook</a>'\n",
              "            + ' to learn more about interactive tables.';\n",
              "          element.innerHTML = '';\n",
              "          dataTable['output_type'] = 'display_data';\n",
              "          await google.colab.output.renderOutput(dataTable, element);\n",
              "          const docLink = document.createElement('div');\n",
              "          docLink.innerHTML = docLinkHtml;\n",
              "          element.appendChild(docLink);\n",
              "        }\n",
              "      </script>\n",
              "    </div>\n",
              "  </div>\n",
              "  "
            ]
          },
          "metadata": {},
          "execution_count": 112
        }
      ]
    },
    {
      "cell_type": "code",
      "source": [],
      "metadata": {
        "id": "gddA4EPzImSz"
      },
      "execution_count": 112,
      "outputs": []
    }
  ]
}